{
 "cells": [
  {
   "cell_type": "markdown",
   "metadata": {},
   "source": [
    "# HIDDEN MARKOV NEURAL NETWORK: MNIST example"
   ]
  },
  {
   "cell_type": "markdown",
   "metadata": {},
   "source": [
    "## Import libraries"
   ]
  },
  {
   "cell_type": "code",
   "execution_count": 2,
   "metadata": {},
   "outputs": [],
   "source": [
    "import torch\n",
    "import torch.nn as nn\n",
    "import torch.nn.functional as F\n",
    "\n",
    "import pickle\n",
    "\n",
    "import numpy as np\n",
    "\n",
    "import BayesianNetwork"
   ]
  },
  {
   "cell_type": "markdown",
   "metadata": {},
   "source": [
    "## Set the hyper parameters for the training"
   ]
  },
  {
   "cell_type": "code",
   "execution_count": null,
   "metadata": {},
   "outputs": [],
   "source": [
    "# The sample size\n",
    "sample_size    = 10000\n",
    "# The minibatch size\n",
    "minibatch_size = 128\n",
    "# The number of epochs\n",
    "epocs          = 600\n",
    "\n",
    "sliding = 10000\n",
    "T = 5\n",
    "\n",
    "###########################################################\n",
    "# Set the network structure\n",
    "\n",
    "L = 4\n",
    "architecture = np.array([784, 400, 400, 10])\n",
    "\n",
    "alpha_k = 0.25\n",
    "sigma_k = np.exp(2)\n",
    "c       = np.exp(10)\n",
    "p       = 0.3\n",
    "pi      = 0.5\n",
    "lr_c = 1e-3\n",
    "mc_c = 1"
   ]
  }
 ],
 "metadata": {
  "kernelspec": {
   "display_name": "Python 3",
   "language": "python",
   "name": "python3"
  },
  "language_info": {
   "codemirror_mode": {
    "name": "ipython",
    "version": 3
   },
   "file_extension": ".py",
   "mimetype": "text/x-python",
   "name": "python",
   "nbconvert_exporter": "python",
   "pygments_lexer": "ipython3",
   "version": "3.7.3"
  }
 },
 "nbformat": 4,
 "nbformat_minor": 2
}
