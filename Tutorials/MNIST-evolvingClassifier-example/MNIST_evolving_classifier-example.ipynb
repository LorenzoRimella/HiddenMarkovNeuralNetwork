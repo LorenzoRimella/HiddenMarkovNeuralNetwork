{
 "cells": [
  {
   "cell_type": "markdown",
   "metadata": {},
   "source": [
    "# HIDDEN MARKOV NEURAL NETWORK: MNIST example- Evolving classifier"
   ]
  },
  {
   "cell_type": "markdown",
   "metadata": {},
   "source": [
    "We study the performance of HMNN on an evolving in time labeller, which artificially generated from the MNIST dataset."
   ]
  },
  {
   "cell_type": "markdown",
   "metadata": {},
   "source": [
    "## Import libraries"
   ]
  },
  {
   "cell_type": "code",
   "execution_count": 124,
   "metadata": {},
   "outputs": [],
   "source": [
    "import torch\n",
    "import torch.nn as nn\n",
    "import torch.nn.functional as F\n",
    "\n",
    "from sklearn.model_selection import train_test_split\n",
    "from sklearn import preprocessing\n",
    "\n",
    "\n",
    "import pickle\n",
    "\n",
    "import gzip\n",
    "\n",
    "import numpy as np\n",
    "import random"
   ]
  },
  {
   "cell_type": "markdown",
   "metadata": {},
   "source": [
    "## Data processing"
   ]
  },
  {
   "cell_type": "code",
   "execution_count": 125,
   "metadata": {},
   "outputs": [],
   "source": [
    "# Set the seed to guarantee reproducibility\n",
    "seed_number = 123\n",
    "\n",
    "random.seed(seed_number)\n",
    "torch.manual_seed(seed_number)\n",
    "np.random.seed(seed_number)"
   ]
  },
  {
   "cell_type": "markdown",
   "metadata": {},
   "source": [
    "The files \"train-labels-idx1-ubyte.gz\" and \"train-images-idx3-ubyte.gz\" can be downloaded from:\n",
    "\n",
    "- http://yann.lecun.com/exdb/mnist/"
   ]
  },
  {
   "cell_type": "code",
   "execution_count": 126,
   "metadata": {},
   "outputs": [],
   "source": [
    "def load_mnist():\n",
    "    \"\"\"Load MNIST data from `path`\"\"\"\n",
    "    labels_path = 'train-labels-idx1-ubyte.gz'\n",
    "    images_path = 'train-images-idx3-ubyte.gz'\n",
    "        \n",
    "    with gzip.open(labels_path, 'rb') as lbpath:\n",
    "        lbpath.read(8)\n",
    "        buffer = lbpath.read()\n",
    "        labels = np.frombuffer(buffer, dtype=np.uint8)\n",
    "\n",
    "    with gzip.open(images_path, 'rb') as imgpath:\n",
    "        imgpath.read(16)\n",
    "        buffer = imgpath.read()\n",
    "        images = np.frombuffer(buffer, \n",
    "                               dtype=np.uint8).reshape(\n",
    "            len(labels), 784).astype(np.float64)\n",
    " \n",
    "    return images, labels\n",
    "\n",
    "def mnist_preprocessing(x, y, sample_N = 300000, test_ratio = 0.3):\n",
    "\n",
    "    x = np.float32(x) / 126.\n",
    "    #np.save(\"mnist_preprocessed_data\", x)\n",
    "    y = np.int32(y)\n",
    "    #np.save(\"mnist_preprocessed_target\", y)\n",
    "    idx = np.random.choice(x.shape[0], sample_N)\n",
    "    x = x[idx]\n",
    "    y = y[idx]\n",
    "\n",
    "    tr_idx, te_idx = train_test_split(np.arange(sample_N), test_size = test_ratio)\n",
    "    tr_x, te_x = x[tr_idx], x[te_idx]\n",
    "    tr_y, te_y = y[tr_idx], y[te_idx]\n",
    "\n",
    "    return tr_x,te_x,tr_y,te_y"
   ]
  },
  {
   "cell_type": "code",
   "execution_count": 127,
   "metadata": {},
   "outputs": [],
   "source": [
    "x,y = load_mnist()\n",
    "tr_x, te_x, tr_y, te_y = mnist_preprocessing(x, y)"
   ]
  },
  {
   "cell_type": "code",
   "execution_count": 128,
   "metadata": {},
   "outputs": [],
   "source": [
    "tr_x = tr_x[0:,:]\n",
    "tr_y = tr_y[0:]"
   ]
  },
  {
   "cell_type": "code",
   "execution_count": 129,
   "metadata": {},
   "outputs": [
    {
     "data": {
      "text/plain": [
       "210000"
      ]
     },
     "execution_count": 129,
     "metadata": {},
     "output_type": "execute_result"
    }
   ],
   "source": [
    "np.size(tr_y, 0)"
   ]
  },
  {
   "cell_type": "markdown",
   "metadata": {},
   "source": [
    "## Evolving classifier"
   ]
  },
  {
   "cell_type": "markdown",
   "metadata": {},
   "source": [
    "### Probability evolution"
   ]
  },
  {
   "cell_type": "markdown",
   "metadata": {},
   "source": [
    "Probability $f_t$ of choosing classifier $\\mathcal{C}_1$."
   ]
  },
  {
   "cell_type": "code",
   "execution_count": 130,
   "metadata": {},
   "outputs": [],
   "source": [
    "%matplotlib inline"
   ]
  },
  {
   "cell_type": "code",
   "execution_count": 131,
   "metadata": {},
   "outputs": [
    {
     "data": {
      "image/png": "[encoded data removed]",
      "text/plain": [
       "<Figure size 640x480 with 1 Axes>"
      ]
     },
     "metadata": {},
     "output_type": "display_data"
    }
   ],
   "source": [
    "import matplotlib.pyplot as plt\n",
    "\n",
    "p_grid = 0.5*np.sin(np.pi/8*np.linspace(4, 20, 20))+0.5\n",
    "\n",
    "plt.plot(np.linspace(4, 20, 20), p_grid)\n",
    "plt.show()"
   ]
  },
  {
   "cell_type": "markdown",
   "metadata": {},
   "source": [
    "### Classifier"
   ]
  },
  {
   "cell_type": "markdown",
   "metadata": {},
   "source": [
    "Set up the dataset by changing the labels according to probabilit $f_t,1-f_t$ and $\\mathcal{C}_1,\\mathcal{C}_2$ "
   ]
  },
  {
   "cell_type": "code",
   "execution_count": 132,
   "metadata": {},
   "outputs": [],
   "source": [
    "class_1 = np.linspace(0, 9, 10).astype(int)\n",
    "class_2 = (class_1+1)%10"
   ]
  },
  {
   "cell_type": "code",
   "execution_count": 133,
   "metadata": {},
   "outputs": [],
   "source": [
    "total_size_tr  = 100000\n",
    "total_size_val = 100000\n",
    "\n",
    "tr_x_tr = np.copy(tr_x[0:total_size_tr, :])\n",
    "tr_y_tr = np.copy(tr_y[0:total_size_tr])\n",
    "\n",
    "tr_x_val = np.copy(tr_x[total_size_tr:total_size_tr+total_size_val, :])\n",
    "tr_y_val = np.copy(tr_y[total_size_tr:total_size_tr+total_size_val])"
   ]
  },
  {
   "cell_type": "code",
   "execution_count": 134,
   "metadata": {},
   "outputs": [],
   "source": [
    "trace_tr = (tr_y_tr==0)\n",
    "trace_val = (tr_y_val==0)"
   ]
  },
  {
   "cell_type": "code",
   "execution_count": 135,
   "metadata": {},
   "outputs": [],
   "source": [
    "\n",
    "task_size_tr = 5000\n",
    "task_size_val = 5000\n",
    "\n",
    "for t in range(0,20):\n",
    "    j = 0 \n",
    "    \n",
    "    trace_class_tr  = list()\n",
    "    trace_class_val = list()\n",
    "    for trace_index in range(0,10):\n",
    "        trace_class_tr.append(tr_y_tr[t*task_size_tr:(t+1)*task_size_tr] == trace_index)\n",
    "        trace_class_val.append(tr_y_val[t*task_size_val:(t+1)*task_size_val] == trace_index)\n",
    "        \n",
    "    for i in class_2:\n",
    "        coins_tr  = np.random.uniform(0, 1, np.sum(trace_class_tr[j])) \n",
    "        coins_val = np.random.uniform(0, 1, np.sum(trace_class_val[j])) \n",
    "\n",
    "        tr_y_tr[t*task_size_tr:(t+1)*task_size_tr][trace_class_tr[j]]   = (coins_tr>= p_grid[t])*int(i) + (coins_tr< p_grid[t])*int(j)\n",
    "        tr_y_val[t*task_size_val:(t+1)*task_size_val][trace_class_val[j]] = (coins_val>= p_grid[t])*int(i) + (coins_val< p_grid[t])*int(j)\n",
    "        \n",
    "        j = j +1\n",
    "        \n",
    "        "
   ]
  },
  {
   "cell_type": "code",
   "execution_count": 136,
   "metadata": {},
   "outputs": [],
   "source": [
    "tr_x_te = tr_x_val\n",
    "tr_y_te = tr_y_val"
   ]
  },
  {
   "cell_type": "code",
   "execution_count": 137,
   "metadata": {},
   "outputs": [
    {
     "name": "stdout",
     "output_type": "stream",
     "text": [
      "The new label is  3\n",
      "  \n",
      "The image is \n"
     ]
    },
    {
     "data": {
      "image/png": "[encoded data removed]",
      "text/plain": [
       "<Figure size 640x480 with 1 Axes>"
      ]
     },
     "metadata": {},
     "output_type": "display_data"
    }
   ],
   "source": [
    "t=5\n",
    "image = 9\n",
    "plt.imshow(tr_x_tr[t*task_size_tr:(t+1)*task_size_tr,:][image].reshape(28,28))\n",
    "\n",
    "print(\"The new label is \", tr_y_tr[t*task_size_tr:(t+1)*task_size_tr][image])\n",
    "print(\"  \")\n",
    "print(\"The image is \")"
   ]
  },
  {
   "cell_type": "markdown",
   "metadata": {},
   "source": [
    "Check the expected $f_t$ on training and validation. We can simply count the number of labels that are zero."
   ]
  },
  {
   "cell_type": "code",
   "execution_count": 138,
   "metadata": {},
   "outputs": [
    {
     "data": {
      "text/plain": [
       "array([9, 9, 9, ..., 9, 8, 4], dtype=int32)"
      ]
     },
     "execution_count": 138,
     "metadata": {},
     "output_type": "execute_result"
    }
   ],
   "source": [
    "tr_y_val"
   ]
  },
  {
   "cell_type": "code",
   "execution_count": 139,
   "metadata": {},
   "outputs": [
    {
     "name": "stdout",
     "output_type": "stream",
     "text": [
      "0\n",
      "1\n",
      "2\n",
      "3\n",
      "4\n",
      "5\n",
      "6\n",
      "7\n",
      "8\n",
      "9\n",
      "10\n",
      "11\n",
      "12\n",
      "13\n",
      "14\n",
      "15\n",
      "16\n",
      "17\n",
      "18\n",
      "19\n"
     ]
    }
   ],
   "source": [
    "p_est_tr = np.zeros(20)\n",
    "p_est_val = np.zeros(20)\n",
    "\n",
    "for t in range(0,20):\n",
    "    print(t)\n",
    "    p_est_tr[t] = np.sum(tr_y_tr[t*task_size_tr:(t+1)*task_size_tr][trace_tr[range(t*task_size_tr,(t+1)*task_size_tr)]]==0)/np.sum(trace_tr[range(t*task_size_tr,(t+1)*task_size_tr)])\n",
    "    p_est_val[t] = np.sum(tr_y_val[t*task_size_val:(t+1)*task_size_val][trace_val[range(t*task_size_val,(t+1)*task_size_val)]]==0)/np.sum(trace_val[range(t*task_size_val,(t+1)*task_size_val)])"
   ]
  },
  {
   "cell_type": "code",
   "execution_count": 140,
   "metadata": {},
   "outputs": [
    {
     "data": {
      "image/png": "[encoded data removed]",
      "text/plain": [
       "<Figure size 640x480 with 1 Axes>"
      ]
     },
     "metadata": {},
     "output_type": "display_data"
    }
   ],
   "source": [
    "plt.plot(p_est_tr)\n",
    "plt.plot(p_est_val)\n",
    "plt.show()"
   ]
  },
  {
   "cell_type": "markdown",
   "metadata": {},
   "source": [
    "## HMNN"
   ]
  },
  {
   "cell_type": "markdown",
   "metadata": {},
   "source": [
    "### Set the hyper parameters for the training"
   ]
  },
  {
   "cell_type": "code",
   "execution_count": 141,
   "metadata": {},
   "outputs": [],
   "source": [
    "# The sample size\n",
    "sample_size    = 5000\n",
    "# The minibatch size\n",
    "minibatch_size = 128\n",
    "# The number of epochs\n",
    "\n",
    "epocs          = 10 #Optimal value 600\n",
    "# This parameter if use to retrain on part of the previous data. \n",
    "# If sliding = sample_size then we move to a new set of data.\n",
    "sliding = 5000\n",
    "# Number of Sequential training we want to do minus 1\n",
    "T = 20\n",
    "\n",
    "###########################################################\n",
    "# Set the network structure\n",
    "# Depth\n",
    "L = 4\n",
    "# Structure of the hidden units\n",
    "architecture = np.array([784, 100, 100, 10])\n",
    "\n",
    "# Kernel parameter of the HMNN\n",
    "alpha_k = 0.5\n",
    "sigma_k = np.exp(-2)\n",
    "c       = np.exp(5)\n",
    "pi      = 0.5\n",
    "\n",
    "# Mixture weight for the variational dropconnect\n",
    "p       = 0.8\n",
    "\n",
    "# Learning rate\n",
    "lr_c = 1e-3\n",
    "\n",
    "# Size of the Monte Carlo sample\n",
    "mc_c = 1"
   ]
  },
  {
   "cell_type": "markdown",
   "metadata": {},
   "source": [
    "### Training procedure"
   ]
  },
  {
   "cell_type": "code",
   "execution_count": 142,
   "metadata": {},
   "outputs": [
    {
     "data": {
      "text/plain": [
       "<Figure size 640x480 with 0 Axes>"
      ]
     },
     "metadata": {},
     "output_type": "display_data"
    }
   ],
   "source": [
    "%run -i BayesianNetwork.py"
   ]
  },
  {
   "cell_type": "code",
   "execution_count": 143,
   "metadata": {
    "scrolled": true
   },
   "outputs": [
    {
     "name": "stdout",
     "output_type": "stream",
     "text": [
      "Time  1\n",
      "Epoch  1\n"
     ]
    },
    {
     "name": "stdout",
     "output_type": "stream",
     "text": [
      "Prior score  2442.25425976001  and Data score  314.5971056791724\n",
      "Performance on the validation set  0.1484\n",
      "Epoch  2\n",
      "Prior score  2440.1494557851324  and Data score  297.1795784799544\n",
      "Performance on the validation set  0.3132\n",
      "Epoch  3\n",
      "Prior score  2438.065460943181  and Data score  273.3352001887598\n",
      "Performance on the validation set  0.3408\n",
      "Epoch  4\n",
      "Prior score  2431.374006530052  and Data score  222.64414834545272\n",
      "Performance on the validation set  0.492\n",
      "Epoch  5\n",
      "Prior score  2425.9821407873196  and Data score  201.34138214785207\n",
      "Performance on the validation set  0.5392\n",
      "Epoch  6\n",
      "Prior score  2424.7839616351944  and Data score  166.53522746170103\n",
      "Performance on the validation set  0.6856\n",
      "Epoch  7\n",
      "Prior score  2418.955057502707  and Data score  144.658350975705\n",
      "Performance on the validation set  0.777\n",
      "Epoch  8\n",
      "Prior score  2415.0977093016722  and Data score  129.22272004266947\n",
      "Performance on the validation set  0.7756\n",
      "Epoch  9\n",
      "Prior score  2409.9446917994014  and Data score  114.98806606948776\n",
      "Performance on the validation set  0.8146\n",
      "Epoch  10\n",
      "Prior score  2405.5375101026198  and Data score  105.4246817031438\n",
      "Performance on the validation set  0.788\n",
      "Time  2\n",
      "Epoch  1\n",
      "Prior score  246.85026847723347  and Data score  127.11735252987152\n",
      "Performance on the validation set  0.8114\n",
      "Epoch  2\n",
      "Prior score  248.2030723090418  and Data score  121.14298716881494\n",
      "Performance on the validation set  0.8278\n",
      "Epoch  3\n",
      "Prior score  249.18809056280256  and Data score  116.1663381089917\n",
      "Performance on the validation set  0.8336\n",
      "Epoch  4\n",
      "Prior score  249.94963131122597  and Data score  110.92051904954863\n",
      "Performance on the validation set  0.8282\n",
      "Epoch  5\n",
      "Prior score  251.98169264794925  and Data score  112.0059351280919\n",
      "Performance on the validation set  0.8388\n",
      "Epoch  6\n",
      "Prior score  253.00794913600092  and Data score  105.83166670344013\n",
      "Performance on the validation set  0.848\n",
      "Epoch  7\n",
      "Prior score  253.0018604422079  and Data score  109.70406525247397\n",
      "Performance on the validation set  0.8434\n",
      "Epoch  8\n",
      "Prior score  254.3484660979105  and Data score  104.8134547241657\n",
      "Performance on the validation set  0.8512\n",
      "Epoch  9\n",
      "Prior score  255.78027491586212  and Data score  104.71044553877603\n",
      "Performance on the validation set  0.8538\n",
      "Epoch  10\n",
      "Prior score  255.69841215021057  and Data score  99.39598389440461\n",
      "Performance on the validation set  0.8462\n",
      "Time  3\n",
      "Epoch  1\n",
      "Prior score  244.15980395479724  and Data score  142.37481047292118\n",
      "Performance on the validation set  0.7948\n",
      "Epoch  2\n",
      "Prior score  246.14337830040108  and Data score  133.9733961376493\n",
      "Performance on the validation set  0.7958\n",
      "Epoch  3\n",
      "Prior score  246.53583306910545  and Data score  134.18906733843372\n",
      "Performance on the validation set  0.7992\n",
      "Epoch  4\n",
      "Prior score  247.60263979461777  and Data score  131.4542445704524\n",
      "Performance on the validation set  0.7938\n",
      "Epoch  5\n",
      "Prior score  248.3562984190681  and Data score  124.97651587401458\n",
      "Performance on the validation set  0.8002\n",
      "Epoch  6\n",
      "Prior score  248.65414337646092  and Data score  124.49332723077906\n",
      "Performance on the validation set  0.7892\n",
      "Epoch  7\n",
      "Prior score  249.50295547172297  and Data score  121.86681995871622\n",
      "Performance on the validation set  0.8056\n",
      "Epoch  8\n",
      "Prior score  249.58627683291323  and Data score  121.12134145889148\n",
      "Performance on the validation set  0.7978\n",
      "Epoch  9\n",
      "Prior score  250.38416413558176  and Data score  122.33286455443468\n",
      "Performance on the validation set  0.799\n",
      "Epoch  10\n",
      "Prior score  251.9532978282078  and Data score  120.8128765333173\n",
      "Performance on the validation set  0.8024\n",
      "Time  4\n",
      "Epoch  1\n",
      "Prior score  242.13812052976144  and Data score  146.98829000910234\n",
      "Performance on the validation set  0.7\n",
      "Epoch  2\n",
      "Prior score  242.1734958075747  and Data score  142.34459487430547\n",
      "Performance on the validation set  0.7052\n",
      "Epoch  3\n",
      "Prior score  242.26942962251385  and Data score  137.0928991538053\n",
      "Performance on the validation set  0.6976\n",
      "Epoch  4\n",
      "Prior score  243.47334946878576  and Data score  139.82843135272617\n",
      "Performance on the validation set  0.702\n",
      "Epoch  5\n",
      "Prior score  243.4992163513896  and Data score  142.08467262386316\n",
      "Performance on the validation set  0.7052\n",
      "Epoch  6\n",
      "Prior score  245.0623596345234  and Data score  140.28774937638525\n",
      "Performance on the validation set  0.6668\n",
      "Epoch  7\n",
      "Prior score  244.92760203390833  and Data score  139.2190396033064\n",
      "Performance on the validation set  0.7036\n",
      "Epoch  8\n",
      "Prior score  245.89180782687043  and Data score  137.19359783920095\n",
      "Performance on the validation set  0.7032\n",
      "Epoch  9\n",
      "Prior score  245.1858821916538  and Data score  137.6835078874116\n",
      "Performance on the validation set  0.704\n",
      "Epoch  10\n",
      "Prior score  247.0007433759071  and Data score  136.19059117380843\n",
      "Performance on the validation set  0.6844\n",
      "Time  5\n",
      "Epoch  1\n",
      "Prior score  238.30672478857835  and Data score  159.08192400059323\n",
      "Performance on the validation set  0.494\n",
      "Epoch  2\n",
      "Prior score  239.984900674841  and Data score  157.93890397752824\n",
      "Performance on the validation set  0.554\n",
      "Epoch  3\n",
      "Prior score  239.91318455529668  and Data score  155.368829142204\n",
      "Performance on the validation set  0.5054\n",
      "Epoch  4\n",
      "Prior score  241.03835701499202  and Data score  153.01842544977427\n",
      "Performance on the validation set  0.5328\n",
      "Epoch  5\n",
      "Prior score  240.72554354050197  and Data score  151.67856566551325\n",
      "Performance on the validation set  0.5222\n",
      "Epoch  6\n",
      "Prior score  241.06410810418893  and Data score  149.93312149257125\n",
      "Performance on the validation set  0.5398\n",
      "Epoch  7\n",
      "Prior score  242.79208357512653  and Data score  151.58556665678532\n",
      "Performance on the validation set  0.4994\n",
      "Epoch  8\n",
      "Prior score  243.0007323537828  and Data score  148.87797678400582\n",
      "Performance on the validation set  0.516\n",
      "Epoch  9\n",
      "Prior score  241.86368107016077  and Data score  151.0145417386336\n",
      "Performance on the validation set  0.5634\n",
      "Epoch  10\n",
      "Prior score  242.98903817908266  and Data score  149.70520624567473\n",
      "Performance on the validation set  0.544\n",
      "Time  6\n",
      "Epoch  1\n",
      "Prior score  236.502426158585  and Data score  151.93632894171648\n",
      "Performance on the validation set  0.4652\n",
      "Epoch  2\n",
      "Prior score  235.860136767367  and Data score  149.9474906014084\n",
      "Performance on the validation set  0.4822\n",
      "Epoch  3\n",
      "Prior score  236.76712028795822  and Data score  151.62770751867325\n",
      "Performance on the validation set  0.4826\n",
      "Epoch  4\n",
      "Prior score  237.55488189964993  and Data score  150.7512171784549\n",
      "Performance on the validation set  0.4758\n",
      "Epoch  5\n",
      "Prior score  237.90023136813144  and Data score  148.83574866716825\n",
      "Performance on the validation set  0.4736\n",
      "Epoch  6\n",
      "Prior score  238.64954778564964  and Data score  146.95488728988713\n",
      "Performance on the validation set  0.4752\n",
      "Epoch  7\n",
      "Prior score  238.3020311699638  and Data score  151.53291803729078\n",
      "Performance on the validation set  0.4768\n",
      "Epoch  8\n",
      "Prior score  238.10038177824413  and Data score  148.89491602833394\n",
      "Performance on the validation set  0.4768\n",
      "Epoch  9\n",
      "Prior score  239.09379606996038  and Data score  147.85289948900584\n",
      "Performance on the validation set  0.4792\n",
      "Epoch  10\n",
      "Prior score  239.8040383453197  and Data score  147.28748984663338\n",
      "Performance on the validation set  0.4722\n",
      "Time  7\n",
      "Epoch  1\n",
      "Prior score  233.11013705227904  and Data score  141.83256755394896\n",
      "Performance on the validation set  0.6412\n",
      "Epoch  2\n",
      "Prior score  234.784669814098  and Data score  139.02890047755105\n",
      "Performance on the validation set  0.6406\n",
      "Epoch  3\n",
      "Prior score  235.4874547777443  and Data score  135.64198522479242\n",
      "Performance on the validation set  0.6424\n",
      "Epoch  4\n",
      "Prior score  234.7971837012018  and Data score  138.00634687782667\n",
      "Performance on the validation set  0.6412\n",
      "Epoch  5\n",
      "Prior score  235.2094824518974  and Data score  138.66950828172233\n",
      "Performance on the validation set  0.633\n",
      "Epoch  6\n",
      "Prior score  235.99516725632793  and Data score  136.2049620427064\n",
      "Performance on the validation set  0.6428\n",
      "Epoch  7\n",
      "Prior score  234.67855734798076  and Data score  133.5396516285995\n",
      "Performance on the validation set  0.6436\n",
      "Epoch  8\n",
      "Prior score  234.83056947883213  and Data score  133.42937526851617\n",
      "Performance on the validation set  0.609\n",
      "Epoch  9\n",
      "Prior score  235.91763771565653  and Data score  134.20834469602218\n",
      "Performance on the validation set  0.6448\n",
      "Epoch  10\n",
      "Prior score  236.34891688034267  and Data score  134.20243349297996\n",
      "Performance on the validation set  0.6422\n",
      "Time  8\n",
      "Epoch  1\n",
      "Prior score  230.42344069987135  and Data score  119.98602232765828\n",
      "Performance on the validation set  0.771\n",
      "Epoch  2\n",
      "Prior score  231.04019413499228  and Data score  115.54258120639166\n",
      "Performance on the validation set  0.7664\n",
      "Epoch  3\n",
      "Prior score  232.1978467426046  and Data score  111.18085417130303\n",
      "Performance on the validation set  0.7698\n",
      "Epoch  4\n",
      "Prior score  231.7335844936995  and Data score  111.73667892540598\n",
      "Performance on the validation set  0.7732\n",
      "Epoch  5\n",
      "Prior score  232.12118416543066  and Data score  113.09089310505496\n",
      "Performance on the validation set  0.7708\n",
      "Epoch  6\n",
      "Prior score  232.29575591863744  and Data score  114.51395754447677\n",
      "Performance on the validation set  0.771\n",
      "Epoch  7\n",
      "Prior score  232.26838835255265  and Data score  111.77388692045751\n",
      "Performance on the validation set  0.7726\n",
      "Epoch  8\n",
      "Prior score  233.36872372888342  and Data score  112.19017382897756\n",
      "Performance on the validation set  0.774\n",
      "Epoch  9\n",
      "Prior score  233.42268888576328  and Data score  110.42861203250611\n",
      "Performance on the validation set  0.7718\n",
      "Epoch  10\n",
      "Prior score  233.89872340650052  and Data score  109.74544276971228\n",
      "Performance on the validation set  0.7726\n",
      "Time  9\n",
      "Epoch  1\n",
      "Prior score  226.98941737526562  and Data score  88.71151064022571\n",
      "Performance on the validation set  0.869\n",
      "Epoch  2\n",
      "Prior score  228.70857437943  and Data score  84.1361128286314\n",
      "Performance on the validation set  0.87\n",
      "Epoch  3\n",
      "Prior score  228.01610644669998  and Data score  86.40609280586216\n",
      "Performance on the validation set  0.8646\n",
      "Epoch  4\n",
      "Prior score  229.53245430606978  and Data score  84.2284667535027\n",
      "Performance on the validation set  0.8704\n",
      "Epoch  5\n",
      "Prior score  229.1754216872066  and Data score  82.40231389366834\n",
      "Performance on the validation set  0.8712\n",
      "Epoch  6\n",
      "Prior score  229.31363652301732  and Data score  83.03391270332216\n",
      "Performance on the validation set  0.872\n",
      "Epoch  7\n",
      "Prior score  230.2373529409775  and Data score  86.16528797429093\n",
      "Performance on the validation set  0.8726\n",
      "Epoch  8\n",
      "Prior score  229.77117819480154  and Data score  83.48059081971921\n",
      "Performance on the validation set  0.8718\n",
      "Epoch  9\n",
      "Prior score  229.71967588484725  and Data score  82.26999496301687\n",
      "Performance on the validation set  0.871\n",
      "Epoch  10\n",
      "Prior score  229.6826440744034  and Data score  82.77449240571178\n",
      "Performance on the validation set  0.8734\n",
      "Time  10\n",
      "Epoch  1\n",
      "Prior score  224.49191814871878  and Data score  64.00135015168475\n",
      "Performance on the validation set  0.915\n",
      "Epoch  2\n",
      "Prior score  225.86486622144113  and Data score  59.22422686105117\n",
      "Performance on the validation set  0.9146\n",
      "Epoch  3\n",
      "Prior score  226.13133233010223  and Data score  55.80056406255397\n",
      "Performance on the validation set  0.9164\n",
      "Epoch  4\n",
      "Prior score  226.5984190475192  and Data score  57.577502791888314\n",
      "Performance on the validation set  0.913\n",
      "Epoch  5\n",
      "Prior score  227.27024855788602  and Data score  56.12647814255019\n",
      "Performance on the validation set  0.919\n",
      "Epoch  6\n",
      "Prior score  226.7493848218643  and Data score  56.91190890692549\n",
      "Performance on the validation set  0.9178\n",
      "Epoch  7\n",
      "Prior score  227.89653627843725  and Data score  54.658612454646025\n",
      "Performance on the validation set  0.9178\n",
      "Epoch  8\n",
      "Prior score  227.44360628491586  and Data score  54.81573138245576\n",
      "Performance on the validation set  0.9196\n",
      "Epoch  9\n",
      "Prior score  228.13343177149758  and Data score  53.366883447226485\n",
      "Performance on the validation set  0.9212\n",
      "Epoch  10\n",
      "Prior score  227.7445906665149  and Data score  52.69209749648256\n",
      "Performance on the validation set  0.9188\n",
      "Time  11\n",
      "Epoch  1\n",
      "Prior score  221.63072376716008  and Data score  54.0539601414798\n",
      "Performance on the validation set  0.929\n",
      "Epoch  2\n",
      "Prior score  222.156986727642  and Data score  51.599012066839514\n",
      "Performance on the validation set  0.9314\n",
      "Epoch  3\n",
      "Prior score  221.98009314247  and Data score  51.70377406592024\n",
      "Performance on the validation set  0.9278\n",
      "Epoch  4\n",
      "Prior score  222.70684768747424  and Data score  50.18680276183023\n",
      "Performance on the validation set  0.9304\n",
      "Epoch  5\n",
      "Prior score  223.1000150672262  and Data score  48.30328139430719\n",
      "Performance on the validation set  0.9298\n",
      "Epoch  6\n",
      "Prior score  223.437325205611  and Data score  50.21923296328117\n",
      "Performance on the validation set  0.9292\n",
      "Epoch  7\n",
      "Prior score  223.1046353535624  and Data score  48.830858095560075\n",
      "Performance on the validation set  0.9278\n",
      "Epoch  8\n",
      "Prior score  223.55538361049776  and Data score  50.08613216457455\n",
      "Performance on the validation set  0.9308\n",
      "Epoch  9\n",
      "Prior score  223.88102033058618  and Data score  47.665151903359714\n",
      "Performance on the validation set  0.932\n",
      "Epoch  10\n",
      "Prior score  223.98651865015526  and Data score  47.16362352219797\n",
      "Performance on the validation set  0.9298\n",
      "Time  12\n",
      "Epoch  1\n",
      "Prior score  218.61525587234524  and Data score  74.74180810468468\n",
      "Performance on the validation set  0.884\n",
      "Epoch  2\n",
      "Prior score  220.93007847729737  and Data score  72.23108629334575\n",
      "Performance on the validation set  0.885\n",
      "Epoch  3\n",
      "Prior score  221.14162845473498  and Data score  71.02794083186132\n",
      "Performance on the validation set  0.8842\n",
      "Epoch  4\n",
      "Prior score  220.46735433221542  and Data score  71.98271878798687\n",
      "Performance on the validation set  0.882\n",
      "Epoch  5\n",
      "Prior score  220.99535195407043  and Data score  72.4204700492661\n",
      "Performance on the validation set  0.8852\n",
      "Epoch  6\n",
      "Prior score  221.22005201404733  and Data score  69.83097617502071\n",
      "Performance on the validation set  0.8856\n",
      "Epoch  7\n",
      "Prior score  220.6026404169549  and Data score  67.16340720318009\n",
      "Performance on the validation set  0.8838\n",
      "Epoch  8\n",
      "Prior score  221.11258578516964  and Data score  68.23685532034268\n",
      "Performance on the validation set  0.884\n",
      "Epoch  9\n",
      "Prior score  221.60254046100263  and Data score  69.6749938919901\n",
      "Performance on the validation set  0.8842\n",
      "Epoch  10\n",
      "Prior score  221.20962452193967  and Data score  67.5922100137008\n",
      "Performance on the validation set  0.8836\n",
      "Time  13\n",
      "Epoch  1\n",
      "Prior score  217.11765003593027  and Data score  109.8792511767965\n",
      "Performance on the validation set  0.7822\n",
      "Epoch  2\n",
      "Prior score  217.33462713583722  and Data score  108.87930833161735\n",
      "Performance on the validation set  0.7802\n",
      "Epoch  3\n",
      "Prior score  217.73565507107153  and Data score  108.74191405437857\n",
      "Performance on the validation set  0.7832\n",
      "Epoch  4\n",
      "Prior score  218.21636161408256  and Data score  104.16439282952125\n",
      "Performance on the validation set  0.7828\n",
      "Epoch  5\n",
      "Prior score  218.36695388084541  and Data score  104.44029947194065\n",
      "Performance on the validation set  0.785\n",
      "Epoch  6\n",
      "Prior score  217.66891750872315  and Data score  105.15279595755058\n",
      "Performance on the validation set  0.785\n",
      "Epoch  7\n",
      "Prior score  218.43387744329468  and Data score  104.03157223464356\n",
      "Performance on the validation set  0.7824\n",
      "Epoch  8\n",
      "Prior score  218.99524869827815  and Data score  105.70636151430521\n",
      "Performance on the validation set  0.7834\n",
      "Epoch  9\n",
      "Prior score  218.5924332333684  and Data score  105.09793304137206\n",
      "Performance on the validation set  0.783\n",
      "Epoch  10\n",
      "Prior score  219.13584188560637  and Data score  105.07074277487351\n",
      "Performance on the validation set  0.7834\n",
      "Time  14\n",
      "Epoch  1\n",
      "Prior score  214.1101703781107  and Data score  129.30527214042147\n",
      "Performance on the validation set  0.6518\n",
      "Epoch  2\n",
      "Prior score  214.4394837830682  and Data score  127.7585287376734\n",
      "Performance on the validation set  0.6094\n",
      "Epoch  3\n",
      "Prior score  214.98014745275245  and Data score  124.49698147153958\n",
      "Performance on the validation set  0.6306\n",
      "Epoch  4\n",
      "Prior score  215.49580802459204  and Data score  124.40886145647265\n",
      "Performance on the validation set  0.6244\n",
      "Epoch  5\n",
      "Prior score  215.4255679850349  and Data score  124.6488348222095\n",
      "Performance on the validation set  0.6464\n",
      "Epoch  6\n",
      "Prior score  214.95673654233892  and Data score  123.20866267182704\n",
      "Performance on the validation set  0.6516\n",
      "Epoch  7\n",
      "Prior score  215.4541613076874  and Data score  122.04127834717728\n",
      "Performance on the validation set  0.652\n",
      "Epoch  8\n",
      "Prior score  215.56829670904386  and Data score  123.30565751537205\n",
      "Performance on the validation set  0.65\n",
      "Epoch  9\n",
      "Prior score  215.7603410202162  and Data score  124.32396728178125\n",
      "Performance on the validation set  0.6526\n",
      "Epoch  10\n",
      "Prior score  216.09933915756656  and Data score  122.54912815686217\n",
      "Performance on the validation set  0.6536\n",
      "Time  15\n",
      "Epoch  1\n",
      "Prior score  211.01765535860176  and Data score  136.34108637212594\n",
      "Performance on the validation set  0.481\n",
      "Epoch  2\n",
      "Prior score  211.15478554156792  and Data score  134.34348449763067\n",
      "Performance on the validation set  0.4848\n",
      "Epoch  3\n",
      "Prior score  212.10250193102257  and Data score  135.66544686387158\n",
      "Performance on the validation set  0.4648\n",
      "Epoch  4\n",
      "Prior score  212.35956629260937  and Data score  133.87316853569038\n",
      "Performance on the validation set  0.4732\n",
      "Epoch  5\n",
      "Prior score  212.17129266282848  and Data score  134.8301079682337\n",
      "Performance on the validation set  0.473\n",
      "Epoch  6\n",
      "Prior score  212.57392058677104  and Data score  136.07209426567488\n",
      "Performance on the validation set  0.4866\n",
      "Epoch  7\n",
      "Prior score  212.7866315537088  and Data score  133.05244411870177\n",
      "Performance on the validation set  0.4822\n",
      "Epoch  8\n",
      "Prior score  213.01547797501792  and Data score  132.8862546005425\n",
      "Performance on the validation set  0.4722\n",
      "Epoch  9\n",
      "Prior score  213.7461232491176  and Data score  132.97424248563007\n",
      "Performance on the validation set  0.48\n",
      "Epoch  10\n",
      "Prior score  212.81235124476976  and Data score  134.43336322367708\n",
      "Performance on the validation set  0.4864\n",
      "Time  16\n",
      "Epoch  1\n",
      "Prior score  208.50826442720467  and Data score  132.5707919918863\n",
      "Performance on the validation set  0.5764\n",
      "Epoch  2\n",
      "Prior score  208.9830102201848  and Data score  130.2221325227422\n",
      "Performance on the validation set  0.571\n",
      "Epoch  3\n",
      "Prior score  209.9617319036747  and Data score  131.33438506176293\n",
      "Performance on the validation set  0.5862\n",
      "Epoch  4\n",
      "Prior score  209.8956493732413  and Data score  128.22520678833754\n",
      "Performance on the validation set  0.5812\n",
      "Epoch  5\n",
      "Prior score  209.95522541278973  and Data score  128.81834631029528\n",
      "Performance on the validation set  0.5872\n",
      "Epoch  6\n",
      "Prior score  209.68473877019278  and Data score  128.05961214268137\n",
      "Performance on the validation set  0.5676\n",
      "Epoch  7\n",
      "Prior score  210.06455134017938  and Data score  128.77701665328064\n",
      "Performance on the validation set  0.5614\n",
      "Epoch  8\n",
      "Prior score  210.79328805510775  and Data score  126.08219795625057\n",
      "Performance on the validation set  0.5882\n",
      "Epoch  9\n",
      "Prior score  209.69340886475797  and Data score  128.46332875938648\n",
      "Performance on the validation set  0.5888\n",
      "Epoch  10\n",
      "Prior score  209.37473152732753  and Data score  129.0453365290879\n",
      "Performance on the validation set  0.5604\n",
      "Time  17\n",
      "Epoch  1\n",
      "Prior score  205.8362412932638  and Data score  120.01609399\n",
      "Performance on the validation set  0.7278\n",
      "Epoch  2\n",
      "Prior score  207.05452209458448  and Data score  116.68428763276293\n",
      "Performance on the validation set  0.7276\n",
      "Epoch  3\n",
      "Prior score  206.93455322156692  and Data score  117.52198023841363\n",
      "Performance on the validation set  0.7314\n",
      "Epoch  4\n",
      "Prior score  206.35176528865904  and Data score  115.2028803671029\n",
      "Performance on the validation set  0.731\n",
      "Epoch  5\n",
      "Prior score  207.12386275797587  and Data score  114.08830628755211\n",
      "Performance on the validation set  0.7308\n",
      "Epoch  6\n",
      "Prior score  207.70369565716032  and Data score  111.52722478527387\n",
      "Performance on the validation set  0.7286\n",
      "Epoch  7\n",
      "Prior score  207.79107222282144  and Data score  114.66502393631471\n",
      "Performance on the validation set  0.729\n",
      "Epoch  8\n",
      "Prior score  206.74824436250185  and Data score  113.34797841285551\n",
      "Performance on the validation set  0.7294\n",
      "Epoch  9\n",
      "Prior score  207.90543462435673  and Data score  113.89395596439893\n",
      "Performance on the validation set  0.731\n",
      "Epoch  10\n",
      "Prior score  206.92643618733308  and Data score  112.70917664115383\n",
      "Performance on the validation set  0.732\n",
      "Time  18\n",
      "Epoch  1\n",
      "Prior score  203.56332350679202  and Data score  86.97530402670273\n",
      "Performance on the validation set  0.8382\n",
      "Epoch  2\n",
      "Prior score  203.67371796383415  and Data score  86.18895259062396\n",
      "Performance on the validation set  0.8418\n",
      "Epoch  3\n",
      "Prior score  204.31728226599628  and Data score  86.29027272232403\n",
      "Performance on the validation set  0.8408\n",
      "Epoch  4\n",
      "Prior score  204.74497372058954  and Data score  86.42578720950665\n",
      "Performance on the validation set  0.8414\n",
      "Epoch  5\n",
      "Prior score  205.63374813128306  and Data score  85.43079806295583\n",
      "Performance on the validation set  0.8412\n",
      "Epoch  6\n",
      "Prior score  205.1792366934963  and Data score  86.27051315732258\n",
      "Performance on the validation set  0.8404\n",
      "Epoch  7\n",
      "Prior score  204.8959052683277  and Data score  83.91756753528368\n",
      "Performance on the validation set  0.8408\n",
      "Epoch  8\n",
      "Prior score  204.72239947309603  and Data score  86.74199859309265\n",
      "Performance on the validation set  0.8406\n",
      "Epoch  9\n",
      "Prior score  205.43958986182253  and Data score  83.29936760034026\n",
      "Performance on the validation set  0.8412\n",
      "Epoch  10\n",
      "Prior score  204.88748405523913  and Data score  83.03572188463443\n",
      "Performance on the validation set  0.8398\n",
      "Time  19\n",
      "Epoch  1\n",
      "Prior score  202.2074002662004  and Data score  61.89147785895295\n",
      "Performance on the validation set  0.912\n",
      "Epoch  2\n",
      "Prior score  202.05430164267605  and Data score  58.875935610604415\n",
      "Performance on the validation set  0.9124\n",
      "Epoch  3\n",
      "Prior score  201.79643012751026  and Data score  58.98206827726697\n",
      "Performance on the validation set  0.9142\n",
      "Epoch  4\n",
      "Prior score  202.46270378728718  and Data score  59.10272555194087\n",
      "Performance on the validation set  0.9098\n",
      "Epoch  5\n",
      "Prior score  202.19750299321404  and Data score  57.54651999730918\n",
      "Performance on the validation set  0.9132\n",
      "Epoch  6\n",
      "Prior score  203.2362652149667  and Data score  58.75410620694174\n",
      "Performance on the validation set  0.9108\n",
      "Epoch  7\n",
      "Prior score  203.22707380927326  and Data score  56.445266984398565\n",
      "Performance on the validation set  0.9124\n",
      "Epoch  8\n",
      "Prior score  203.84569477054805  and Data score  55.22264432843238\n",
      "Performance on the validation set  0.9136\n",
      "Epoch  9\n",
      "Prior score  203.80784992957774  and Data score  56.19596686486251\n",
      "Performance on the validation set  0.912\n",
      "Epoch  10\n",
      "Prior score  203.91958082887874  and Data score  56.05252967384345\n",
      "Performance on the validation set  0.9136\n",
      "Time  20\n",
      "Epoch  1\n",
      "Prior score  199.1696618280988  and Data score  39.401196139322245\n",
      "Performance on the validation set  0.9478\n",
      "Epoch  2\n",
      "Prior score  200.2489116062662  and Data score  37.28424307564813\n",
      "Performance on the validation set  0.9464\n",
      "Epoch  3\n",
      "Prior score  199.9019173599981  and Data score  37.56543980464946\n",
      "Performance on the validation set  0.9468\n",
      "Epoch  4\n",
      "Prior score  200.51624242884637  and Data score  38.50458412846956\n",
      "Performance on the validation set  0.9478\n",
      "Epoch  5\n",
      "Prior score  200.9275872504786  and Data score  37.29790085926076\n",
      "Performance on the validation set  0.9472\n",
      "Epoch  6\n",
      "Prior score  201.45641147528647  and Data score  36.08267138422234\n",
      "Performance on the validation set  0.9464\n",
      "Epoch  7\n",
      "Prior score  200.6921314435193  and Data score  35.1399366353584\n",
      "Performance on the validation set  0.9484\n",
      "Epoch  8\n",
      "Prior score  200.91381286675642  and Data score  34.49602325210707\n",
      "Performance on the validation set  0.9486\n",
      "Epoch  9\n",
      "Prior score  201.54246139186432  and Data score  36.482408999202725\n",
      "Performance on the validation set  0.9506\n",
      "Epoch  10\n",
      "Prior score  201.02035839352808  and Data score  37.212055297842745\n",
      "Performance on the validation set  0.949\n"
     ]
    }
   ],
   "source": [
    "# Loss function\n",
    "loss_function = torch.nn.CrossEntropyLoss(reduction = 'sum')\n",
    "\n",
    "\n",
    "HMMNET = torchHHMnet(architecture, alpha_k, sigma_k, c, pi, p, loss_function, sample_size, minibatch_size, epocs, T, sliding, workers = 4)\n",
    "\n",
    "HMMNET.forward_pass(tr_x_tr, tr_y_tr, tr_x_val, tr_y_val, lr_c, mc_c)"
   ]
  },
  {
   "cell_type": "markdown",
   "metadata": {},
   "source": [
    "### Validation and Test procedure"
   ]
  },
  {
   "cell_type": "markdown",
   "metadata": {},
   "source": [
    "Divide in validation and test"
   ]
  },
  {
   "cell_type": "code",
   "execution_count": 145,
   "metadata": {},
   "outputs": [],
   "source": [
    "task_size_val = 5000\n",
    "\n",
    "tr_x_test = np.zeros((int(task_size_val/2)*19, 784))\n",
    "tr_y_test = np.zeros((int(task_size_val/2)*19))\n",
    "\n",
    "tr_x_val = np.zeros((int(task_size_val/2)*19, 784))\n",
    "tr_y_val = np.zeros((int(task_size_val/2)*19))\n",
    "\n",
    "for t in range(0, 19):\n",
    "#     print(t)\n",
    "    tr_x_val[(t)*int(task_size_val/2):(t+1)*int(task_size_val/2),:]  = tr_x_te[(t)*task_size_val:(t)*task_size_val+int(task_size_val/2),:]\n",
    "    tr_x_test[(t)*int(task_size_val/2):(t+1)*int(task_size_val/2),:] = tr_x_te[(t)*task_size_val+int(task_size_val/2):(t+1)*task_size_val,:]\n",
    "    \n",
    "    tr_y_val[(t)*int(task_size_val/2):(t+1)*int(task_size_val/2)]  = tr_y_te[(t)*task_size_val:(t)*task_size_val+int(task_size_val/2)]\n",
    "    tr_y_test[(t)*int(task_size_val/2):(t+1)*int(task_size_val/2)] = tr_y_te[(t)*task_size_val+int(task_size_val/2):(t+1)*task_size_val]   "
   ]
  },
  {
   "cell_type": "markdown",
   "metadata": {},
   "source": [
    "Validation plot"
   ]
  },
  {
   "cell_type": "code",
   "execution_count": 156,
   "metadata": {},
   "outputs": [],
   "source": [
    "val_performance = np.zeros(19)\n",
    "task_size_val = 2375\n",
    "for t in range(0,19):\n",
    "    y_predicted     = np.zeros(len(tr_y_val[t*task_size_val:(t+1)*task_size_val]))\n",
    "\n",
    "    output           = HMMNET.model_list[t+1].performance( torch.tensor( tr_x_val[t*task_size_val:(t+1)*task_size_val,:], dtype = torch.float64 ) )\n",
    "    output_softmax   = F.softmax(output, dim=1)\n",
    "\n",
    "    y_predicted = np.array( range(0, 10) )[ np.argmax( output_softmax.data.numpy(), 1 ) ]\n",
    "\n",
    "    val_performance[t] = sum(tr_y_val[t*task_size_val:(t+1)*task_size_val] == y_predicted)/len(tr_y_val[t*task_size_val:(t+1)*task_size_val])"
   ]
  },
  {
   "cell_type": "code",
   "execution_count": 157,
   "metadata": {},
   "outputs": [
    {
     "data": {
      "image/png": "[encoded data removed]",
      "text/plain": [
       "<Figure size 640x480 with 1 Axes>"
      ]
     },
     "metadata": {},
     "output_type": "display_data"
    }
   ],
   "source": [
    "plt.plot(val_performance)\n",
    "plt.show()"
   ]
  },
  {
   "cell_type": "markdown",
   "metadata": {},
   "source": [
    "Test performance (mean over time of the accuracy)"
   ]
  },
  {
   "cell_type": "code",
   "execution_count": 159,
   "metadata": {},
   "outputs": [
    {
     "name": "stdout",
     "output_type": "stream",
     "text": [
      "Performance on the test set  0.7285983379501385\n"
     ]
    }
   ],
   "source": [
    "test_performance = np.zeros(19)\n",
    "task_size_test = 2375\n",
    "\n",
    "for t in range(0,19):\n",
    "    y_predictestd     = np.zeros(len(tr_y_test[t*task_size_test:(t+1)*task_size_test]))\n",
    "\n",
    "    output           = HMMNET.model_list[t+1].performance( torch.tensor( tr_x_test[t*task_size_test:(t+1)*task_size_test,:], dtype = torch.float64 ) )\n",
    "    output_softmax   = F.softmax(output, dim=1)\n",
    "\n",
    "    y_predicted = np.array( range(0, 10) )[ np.argmax( output_softmax.data.numpy(), 1 ) ]\n",
    "\n",
    "    test_performance[t] = sum(tr_y_test[t*task_size_test:(t+1)*task_size_test] == y_predicted)/len(tr_y_test[t*task_size_test:(t+1)*task_size_test])\n",
    "\n",
    "print(\"Performance on the test set \", np.mean(test_performance))"
   ]
  },
  {
   "cell_type": "markdown",
   "metadata": {},
   "source": [
    "## Bayes by Backprop on the whole dataset"
   ]
  },
  {
   "cell_type": "markdown",
   "metadata": {},
   "source": [
    "### Set the hyper parameters for the training"
   ]
  },
  {
   "cell_type": "code",
   "execution_count": 160,
   "metadata": {},
   "outputs": [],
   "source": [
    "# The sample size\n",
    "sample_size    = 200000\n",
    "# The minibatch size\n",
    "minibatch_size = 128\n",
    "# The number of epochs\n",
    "\n",
    "epocs          = 10 #Optimal value 600\n",
    "# This parameter if use to retrain on part of the previous data. \n",
    "# If sliding = sample_size then we move to a new set of data.\n",
    "sliding = 0\n",
    "# Number of Sequential training we want to do\n",
    "T = 1\n",
    "\n",
    "###########################################################\n",
    "# Set the network structure\n",
    "# Depth\n",
    "L = 4\n",
    "# Structure of the hidden units\n",
    "architecture = np.array([784, 100, 100, 10])\n",
    "\n",
    "# Kernel parameter of the HMNN\n",
    "alpha_k = 0.0\n",
    "sigma_k = np.exp(-2)\n",
    "c       = np.exp(5)\n",
    "pi      = 0.5\n",
    "\n",
    "# Mixture weight for the variational dropconnect\n",
    "p       = 0.8\n",
    "\n",
    "# Learning rate\n",
    "lr_c = 1e-3\n",
    "\n",
    "# Size of the Monte Carlo sample\n",
    "mc_c = 1"
   ]
  },
  {
   "cell_type": "markdown",
   "metadata": {},
   "source": [
    "### Training procedure"
   ]
  },
  {
   "cell_type": "code",
   "execution_count": 161,
   "metadata": {
    "scrolled": true
   },
   "outputs": [
    {
     "name": "stdout",
     "output_type": "stream",
     "text": [
      "Time  1\n",
      "Epoch  1\n",
      "Prior score  24.19114078638536  and Data score  123.64862840554812\n",
      "Performance on the validation set  0.42566315789473685\n",
      "Epoch  2\n",
      "Prior score  24.566326576226786  and Data score  85.34485745248958\n",
      "Performance on the validation set  0.45606315789473684\n",
      "Epoch  3\n",
      "Prior score  24.83292312156443  and Data score  75.39265654916433\n",
      "Performance on the validation set  0.46581052631578945\n",
      "Epoch  4\n",
      "Prior score  25.034105878231674  and Data score  71.1713300293038\n",
      "Performance on the validation set  0.4672\n",
      "Epoch  5\n",
      "Prior score  25.207412131854536  and Data score  68.59660009346774\n",
      "Performance on the validation set  0.4743578947368421\n",
      "Epoch  6\n",
      "Prior score  25.343259704848407  and Data score  66.99991314889151\n",
      "Performance on the validation set  0.47814736842105265\n",
      "Epoch  7\n",
      "Prior score  25.469791920561207  and Data score  65.45908882064168\n",
      "Performance on the validation set  0.47642105263157897\n",
      "Epoch  8\n",
      "Prior score  25.5780713700468  and Data score  64.67058401697908\n",
      "Performance on the validation set  0.4746105263157895\n",
      "Epoch  9\n",
      "Prior score  25.67900620375548  and Data score  63.79347718679786\n",
      "Performance on the validation set  0.47157894736842104\n",
      "Epoch  10\n",
      "Prior score  25.772685494583126  and Data score  63.05927453591692\n",
      "Performance on the validation set  0.47713684210526314\n"
     ]
    }
   ],
   "source": [
    "# Loss function\n",
    "loss_function = torch.nn.CrossEntropyLoss(reduction = 'sum')\n",
    "\n",
    "\n",
    "HMMNET_nokernel = torchHHMnet(architecture, alpha_k, sigma_k, c, pi, p, loss_function, sample_size, minibatch_size, epocs, T, sliding, workers = 4)\n",
    "\n",
    "HMMNET_nokernel.forward_pass(tr_x_tr, tr_y_tr, tr_x_val, tr_y_val, lr_c, 2)"
   ]
  },
  {
   "cell_type": "markdown",
   "metadata": {},
   "source": [
    "Test performance (mean over time of the accuracy)"
   ]
  },
  {
   "cell_type": "code",
   "execution_count": 162,
   "metadata": {},
   "outputs": [
    {
     "name": "stdout",
     "output_type": "stream",
     "text": [
      "Performance on the test set  0.5033573407202215\n"
     ]
    }
   ],
   "source": [
    "test_performance = np.zeros(19)\n",
    "task_size_test = 2375\n",
    "\n",
    "for t in range(0,1):\n",
    "    y_predictestd     = np.zeros(len(tr_y_test[t*task_size_test:(t+1)*task_size_test]))\n",
    "\n",
    "    output           = HMMNET_nokernel.model_list[t+1].performance( torch.tensor( tr_x_test, dtype = torch.float64 ) )\n",
    "    output_softmax   = F.softmax(output, dim=1)\n",
    "\n",
    "    y_predicted = np.array( range(0, 10) )[ np.argmax( output_softmax.data.numpy(), 1 ) ]\n",
    "\n",
    "    test_performance[t] = sum(tr_y_test == y_predicted)/len(tr_y_test[t*task_size_test:(t+1)*task_size_test])\n",
    "\n",
    "print(\"Performance on the test set \", np.mean(test_performance))"
   ]
  },
  {
   "cell_type": "code",
   "execution_count": null,
   "metadata": {},
   "outputs": [],
   "source": []
  },
  {
   "cell_type": "code",
   "execution_count": null,
   "metadata": {},
   "outputs": [],
   "source": []
  },
  {
   "cell_type": "code",
   "execution_count": null,
   "metadata": {},
   "outputs": [],
   "source": []
  },
  {
   "cell_type": "code",
   "execution_count": null,
   "metadata": {},
   "outputs": [],
   "source": []
  },
  {
   "cell_type": "code",
   "execution_count": null,
   "metadata": {},
   "outputs": [],
   "source": []
  },
  {
   "cell_type": "code",
   "execution_count": null,
   "metadata": {},
   "outputs": [],
   "source": []
  },
  {
   "cell_type": "code",
   "execution_count": null,
   "metadata": {},
   "outputs": [],
   "source": []
  }
 ],
 "metadata": {
  "kernelspec": {
   "display_name": "base",
   "language": "python",
   "name": "python3"
  },
  "language_info": {
   "codemirror_mode": {
    "name": "ipython",
    "version": 3
   },
   "file_extension": ".py",
   "mimetype": "text/x-python",
   "name": "python",
   "nbconvert_exporter": "python",
   "pygments_lexer": "ipython3",
   "version": "3.11.7"
  }
 },
 "nbformat": 4,
 "nbformat_minor": 2
}
