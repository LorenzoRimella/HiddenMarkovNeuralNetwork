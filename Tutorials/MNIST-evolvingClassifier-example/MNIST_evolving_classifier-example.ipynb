{
 "cells": [
  {
   "cell_type": "markdown",
   "metadata": {},
   "source": [
    "# HIDDEN MARKOV NEURAL NETWORK: MNIST example- Evolving classifier"
   ]
  },
  {
   "cell_type": "markdown",
   "metadata": {},
   "source": [
    "We study the performance of HMNN on an evolving in time labeller, which artificially generated from the MNIST dataset."
   ]
  },
  {
   "cell_type": "markdown",
   "metadata": {},
   "source": [
    "## Import libraries"
   ]
  },
  {
   "cell_type": "code",
   "execution_count": 1,
   "metadata": {},
   "outputs": [],
   "source": [
    "import torch\n",
    "import torch.nn as nn\n",
    "import torch.nn.functional as F\n",
    "\n",
    "from sklearn.model_selection import train_test_split\n",
    "from sklearn import preprocessing\n",
    "\n",
    "\n",
    "import pickle\n",
    "\n",
    "import gzip\n",
    "\n",
    "import numpy as np\n",
    "import random"
   ]
  },
  {
   "cell_type": "markdown",
   "metadata": {},
   "source": [
    "## Data processing"
   ]
  },
  {
   "cell_type": "code",
   "execution_count": 2,
   "metadata": {},
   "outputs": [],
   "source": [
    "# Set the seed to guarantee reproducibility\n",
    "seed_number = 123\n",
    "\n",
    "random.seed(seed_number)\n",
    "torch.manual_seed(seed_number)\n",
    "np.random.seed(seed_number)"
   ]
  },
  {
   "cell_type": "markdown",
   "metadata": {},
   "source": [
    "The files \"train-labels-idx1-ubyte.gz\" and \"train-images-idx3-ubyte.gz\" can be downloaded from:\n",
    "\n",
    "- http://yann.lecun.com/exdb/mnist/"
   ]
  },
  {
   "cell_type": "code",
   "execution_count": 3,
   "metadata": {},
   "outputs": [],
   "source": [
    "def load_mnist():\n",
    "    \"\"\"Load MNIST data from `path`\"\"\"\n",
    "    labels_path = 'train-labels-idx1-ubyte.gz'\n",
    "    images_path = 'train-images-idx3-ubyte.gz'\n",
    "        \n",
    "    with gzip.open(labels_path, 'rb') as lbpath:\n",
    "        lbpath.read(8)\n",
    "        buffer = lbpath.read()\n",
    "        labels = np.frombuffer(buffer, dtype=np.uint8)\n",
    "\n",
    "    with gzip.open(images_path, 'rb') as imgpath:\n",
    "        imgpath.read(16)\n",
    "        buffer = imgpath.read()\n",
    "        images = np.frombuffer(buffer, \n",
    "                               dtype=np.uint8).reshape(\n",
    "            len(labels), 784).astype(np.float64)\n",
    " \n",
    "    return images, labels\n",
    "\n",
    "def mnist_preprocessing(x, y, sample_N = 300000, test_ratio = 0.3):\n",
    "\n",
    "    x = np.float32(x) / 126.\n",
    "    #np.save(\"mnist_preprocessed_data\", x)\n",
    "    y = np.int32(y)\n",
    "    #np.save(\"mnist_preprocessed_target\", y)\n",
    "    idx = np.random.choice(x.shape[0], sample_N)\n",
    "    x = x[idx]\n",
    "    y = y[idx]\n",
    "\n",
    "    tr_idx, te_idx = train_test_split(np.arange(sample_N), test_size = test_ratio)\n",
    "    tr_x, te_x = x[tr_idx], x[te_idx]\n",
    "    tr_y, te_y = y[tr_idx], y[te_idx]\n",
    "\n",
    "    return tr_x,te_x,tr_y,te_y"
   ]
  },
  {
   "cell_type": "code",
   "execution_count": 4,
   "metadata": {},
   "outputs": [],
   "source": [
    "x,y = load_mnist()\n",
    "tr_x, te_x, tr_y, te_y = mnist_preprocessing(x, y)"
   ]
  },
  {
   "cell_type": "code",
   "execution_count": 5,
   "metadata": {},
   "outputs": [],
   "source": [
    "tr_x = tr_x[0:200000,:]\n",
    "tr_y = tr_y[0:200000]"
   ]
  },
  {
   "cell_type": "code",
   "execution_count": 6,
   "metadata": {},
   "outputs": [
    {
     "data": {
      "text/plain": [
       "200000"
      ]
     },
     "execution_count": 6,
     "metadata": {},
     "output_type": "execute_result"
    }
   ],
   "source": [
    "np.size(tr_y, 0)"
   ]
  },
  {
   "cell_type": "markdown",
   "metadata": {},
   "source": [
    "## Evolving classifier"
   ]
  },
  {
   "cell_type": "markdown",
   "metadata": {},
   "source": [
    "### Probability evolution"
   ]
  },
  {
   "cell_type": "markdown",
   "metadata": {},
   "source": [
    "Probability $f_t$ of choosing classifier $\\mathcal{C}_1$."
   ]
  },
  {
   "cell_type": "code",
   "execution_count": 71,
   "metadata": {},
   "outputs": [],
   "source": [
    "%matplotlib inline"
   ]
  },
  {
   "cell_type": "code",
   "execution_count": 72,
   "metadata": {},
   "outputs": [
    {
     "data": {
      "image/png": "[encoded data removed]",
      "text/plain": [
       "<Figure size 432x288 with 1 Axes>"
      ]
     },
     "metadata": {
      "needs_background": "light"
     },
     "output_type": "display_data"
    }
   ],
   "source": [
    "import matplotlib.pyplot as plt\n",
    "\n",
    "p_grid = 0.5*np.sin(np.pi/8*np.linspace(4, 20, 20))+0.5\n",
    "\n",
    "plt.plot(np.linspace(4, 20, 20), p_grid)\n",
    "plt.show()"
   ]
  },
  {
   "cell_type": "markdown",
   "metadata": {},
   "source": [
    "### Classifier"
   ]
  },
  {
   "cell_type": "markdown",
   "metadata": {},
   "source": [
    "Set up the dataset by changing the labels according to probabilit $f_t,1-f_t$ and $\\mathcal{C}_1,\\mathcal{C}_2$ "
   ]
  },
  {
   "cell_type": "code",
   "execution_count": 73,
   "metadata": {},
   "outputs": [],
   "source": [
    "class_1 = np.linspace(0, 9, 10).astype(int)\n",
    "class_2 = (class_1+1)%10"
   ]
  },
  {
   "cell_type": "code",
   "execution_count": 74,
   "metadata": {},
   "outputs": [],
   "source": [
    "total_size_tr  = 200000\n",
    "total_size_val = 200000\n",
    "\n",
    "tr_x_tr = np.copy(tr_x[0:total_size_tr, :])\n",
    "tr_y_tr = np.copy(tr_y[0:total_size_tr])\n",
    "\n",
    "tr_x_val = np.copy(tr_x[total_size_tr:total_size_tr+total_size_val, :])\n",
    "tr_y_val = np.copy(tr_y[total_size_tr:total_size_tr+total_size_val])"
   ]
  },
  {
   "cell_type": "code",
   "execution_count": 75,
   "metadata": {},
   "outputs": [],
   "source": [
    "trace_tr = (tr_y_tr==0)\n",
    "trace_val = (tr_y_val==0)"
   ]
  },
  {
   "cell_type": "code",
   "execution_count": 76,
   "metadata": {},
   "outputs": [],
   "source": [
    "\n",
    "task_size_tr = 10000\n",
    "task_size_val = 10000\n",
    "\n",
    "for t in range(0,20):\n",
    "    j = 0 \n",
    "    \n",
    "    trace_class_tr  = list()\n",
    "    trace_class_val = list()\n",
    "    for trace_index in range(0,10):\n",
    "        trace_class_tr.append(tr_y_tr[t*task_size_tr:(t+1)*task_size_tr] == trace_index)\n",
    "        trace_class_val.append(tr_y_val[t*task_size_val:(t+1)*task_size_val] == trace_index)\n",
    "        \n",
    "    for i in class_2:\n",
    "        coins_tr  = np.random.uniform(0, 1, np.sum(trace_class_tr[j])) \n",
    "        coins_val = np.random.uniform(0, 1, np.sum(trace_class_val[j])) \n",
    "\n",
    "        tr_y_tr[t*task_size_tr:(t+1)*task_size_tr][trace_class_tr[j]]   = (coins_tr>= p_grid[t])*int(i) + (coins_tr< p_grid[t])*int(j)\n",
    "        tr_y_val[t*task_size_val:(t+1)*task_size_val][trace_class_val[j]] = (coins_val>= p_grid[t])*int(i) + (coins_val< p_grid[t])*int(j)\n",
    "        \n",
    "        j = j +1\n",
    "        \n",
    "        "
   ]
  },
  {
   "cell_type": "code",
   "execution_count": 77,
   "metadata": {},
   "outputs": [],
   "source": [
    "tr_x_te = tr_x_val\n",
    "tr_y_te = tr_y_val"
   ]
  },
  {
   "cell_type": "code",
   "execution_count": 78,
   "metadata": {},
   "outputs": [
    {
     "name": "stdout",
     "output_type": "stream",
     "text": [
      "The new label is  4\n",
      "  \n",
      "The image is \n"
     ]
    },
    {
     "data": {
      "image/png": "[encoded data removed]",
      "text/plain": [
       "<Figure size 432x288 with 1 Axes>"
      ]
     },
     "metadata": {
      "needs_background": "light"
     },
     "output_type": "display_data"
    }
   ],
   "source": [
    "t=10\n",
    "image = 10\n",
    "plt.imshow(tr_x_tr[t*task_size_tr:(t+1)*task_size_tr,:][image].reshape(28,28))\n",
    "\n",
    "print(\"The new label is \", tr_y_tr[t*task_size_tr:(t+1)*task_size_tr][image])\n",
    "print(\"  \")\n",
    "print(\"The image is \")"
   ]
  },
  {
   "cell_type": "markdown",
   "metadata": {},
   "source": [
    "Check the expected $f_t$ on training and validation. We can simply count the number of labels that are zero."
   ]
  },
  {
   "cell_type": "code",
   "execution_count": 15,
   "metadata": {},
   "outputs": [],
   "source": [
    "p_est_tr = np.zeros(20)\n",
    "p_est_val = np.zeros(20)\n",
    "\n",
    "for t in range(0,20):\n",
    "#     print(t)\n",
    "    p_est_tr[t] = np.sum(tr_y_tr[t*task_size_tr:(t+1)*task_size_tr][trace_tr[range(t*task_size_tr,(t+1)*task_size_tr)]]==0)/np.sum(trace_tr[range(t*task_size_tr,(t+1)*task_size_tr)])\n",
    "    p_est_val[t] = np.sum(tr_y_val[t*task_size_val:(t+1)*task_size_val][trace_val[range(t*task_size_val,(t+1)*task_size_val)]]==0)/np.sum(trace_val[range(t*task_size_val,(t+1)*task_size_val)])"
   ]
  },
  {
   "cell_type": "code",
   "execution_count": 16,
   "metadata": {},
   "outputs": [
    {
     "data": {
      "image/png": "[encoded data removed]",
      "text/plain": [
       "<Figure size 432x288 with 1 Axes>"
      ]
     },
     "metadata": {
      "needs_background": "light"
     },
     "output_type": "display_data"
    }
   ],
   "source": [
    "plt.plot(p_est_tr)\n",
    "plt.plot(p_est_val)\n",
    "plt.show()"
   ]
  },
  {
   "cell_type": "markdown",
   "metadata": {},
   "source": [
    "## HMNN"
   ]
  },
  {
   "cell_type": "markdown",
   "metadata": {},
   "source": [
    "### Set the hyper parameters for the training"
   ]
  },
  {
   "cell_type": "code",
   "execution_count": 17,
   "metadata": {},
   "outputs": [],
   "source": [
    "# The sample size\n",
    "sample_size    = 10000\n",
    "# The minibatch size\n",
    "minibatch_size = 128\n",
    "# The number of epochs\n",
    "\n",
    "epocs          = 10 #Optimal value 600\n",
    "# This parameter if use to retrain on part of the previous data. \n",
    "# If sliding = sample_size then we move to a new set of data.\n",
    "sliding = 10000\n",
    "# Number of Sequential training we want to do minus 1\n",
    "T = 20\n",
    "\n",
    "###########################################################\n",
    "# Set the network structure\n",
    "# Depth\n",
    "L = 4\n",
    "# Structure of the hidden units\n",
    "architecture = np.array([784, 100, 100, 10])\n",
    "\n",
    "# Kernel parameter of the HMNN\n",
    "alpha_k = 0.5\n",
    "sigma_k = np.exp(-2)\n",
    "c       = np.exp(5)\n",
    "pi      = 0.5\n",
    "\n",
    "# Mixture weight for the variational dropconnect\n",
    "p       = 0.8\n",
    "\n",
    "# Learning rate\n",
    "lr_c = 1e-3\n",
    "\n",
    "# Size of the Monte Carlo sample\n",
    "mc_c = 1"
   ]
  },
  {
   "cell_type": "markdown",
   "metadata": {},
   "source": [
    "### Training procedure"
   ]
  },
  {
   "cell_type": "code",
   "execution_count": 20,
   "metadata": {},
   "outputs": [],
   "source": [
    "%run -i BayesianNetwork.py"
   ]
  },
  {
   "cell_type": "code",
   "execution_count": 21,
   "metadata": {
    "scrolled": true
   },
   "outputs": [
    {
     "name": "stdout",
     "output_type": "stream",
     "text": [
      "Time  1\n",
      "Epoch  1\n",
      "Prior score  1205.0180272106022  and Data score  307.17129347656595\n",
      "Performance on the validation set  0.2682\n",
      "Epoch  2\n",
      "Prior score  1204.2640388742107  and Data score  261.8445468340303\n",
      "Performance on the validation set  0.4269\n",
      "Epoch  3\n",
      "Prior score  1200.2080928589664  and Data score  186.4203915226673\n",
      "Performance on the validation set  0.5994\n",
      "Epoch  4\n",
      "Prior score  1198.248612241787  and Data score  137.69963363389778\n",
      "Performance on the validation set  0.7455\n",
      "Epoch  5\n",
      "Prior score  1195.3286683423614  and Data score  116.56392161282395\n",
      "Performance on the validation set  0.8088\n",
      "Epoch  6\n",
      "Prior score  1193.3048971802607  and Data score  100.67363123299857\n",
      "Performance on the validation set  0.8414\n",
      "Epoch  7\n",
      "Prior score  1191.1402851865591  and Data score  86.80620847757145\n",
      "Performance on the validation set  0.8763\n",
      "Epoch  8\n",
      "Prior score  1188.6418506311777  and Data score  79.95270274632493\n",
      "Performance on the validation set  0.8767\n",
      "Epoch  9\n",
      "Prior score  1186.7099664834911  and Data score  75.92745922414905\n",
      "Performance on the validation set  0.8901\n",
      "Epoch  10\n",
      "Prior score  1184.9335170592428  and Data score  71.32689981043131\n",
      "Performance on the validation set  0.8931\n",
      "Time  2\n",
      "Epoch  1\n",
      "Prior score  121.23823908815888  and Data score  101.22534299710411\n",
      "Performance on the validation set  0.8639\n",
      "Epoch  2\n",
      "Prior score  121.88301574687755  and Data score  95.96593694466938\n",
      "Performance on the validation set  0.8719\n",
      "Epoch  3\n",
      "Prior score  123.09372164092758  and Data score  88.86326249562502\n",
      "Performance on the validation set  0.8713\n",
      "Epoch  4\n",
      "Prior score  123.33751621999919  and Data score  87.40747877213076\n",
      "Performance on the validation set  0.8716\n",
      "Epoch  5\n",
      "Prior score  124.19932484328619  and Data score  83.49880812046413\n",
      "Performance on the validation set  0.878\n",
      "Epoch  6\n",
      "Prior score  124.94870523441853  and Data score  84.14551641959875\n",
      "Performance on the validation set  0.8753\n",
      "Epoch  7\n",
      "Prior score  125.6118274823993  and Data score  81.19882141708341\n",
      "Performance on the validation set  0.877\n",
      "Epoch  8\n",
      "Prior score  126.00665652318837  and Data score  81.94339916293663\n",
      "Performance on the validation set  0.8794\n",
      "Epoch  9\n",
      "Prior score  126.50813130769492  and Data score  78.03252283179017\n",
      "Performance on the validation set  0.8831\n",
      "Epoch  10\n",
      "Prior score  126.78949195207896  and Data score  79.29812561536448\n",
      "Performance on the validation set  0.8815\n",
      "Time  3\n",
      "Epoch  1\n",
      "Prior score  120.24707939277734  and Data score  113.27074904678123\n",
      "Performance on the validation set  0.8126\n",
      "Epoch  2\n",
      "Prior score  120.79060178539042  and Data score  109.19688879416208\n",
      "Performance on the validation set  0.8126\n",
      "Epoch  3\n",
      "Prior score  121.10963130846952  and Data score  108.01734174690425\n",
      "Performance on the validation set  0.8151\n",
      "Epoch  4\n",
      "Prior score  121.88620330593167  and Data score  105.75917972725216\n",
      "Performance on the validation set  0.8156\n",
      "Epoch  5\n",
      "Prior score  122.13442009710478  and Data score  104.36360970646847\n",
      "Performance on the validation set  0.815\n",
      "Epoch  6\n",
      "Prior score  122.95616780125492  and Data score  100.15037847928404\n",
      "Performance on the validation set  0.8105\n",
      "Epoch  7\n",
      "Prior score  122.99442422338954  and Data score  101.96524077655081\n",
      "Performance on the validation set  0.8147\n",
      "Epoch  8\n",
      "Prior score  123.3466030524391  and Data score  100.83678671120917\n",
      "Performance on the validation set  0.8202\n",
      "Epoch  9\n",
      "Prior score  123.51595436122238  and Data score  98.82037207114354\n",
      "Performance on the validation set  0.8216\n",
      "Epoch  10\n",
      "Prior score  124.12007394267432  and Data score  99.01865223844764\n",
      "Performance on the validation set  0.8228\n",
      "Time  4\n",
      "Epoch  1\n",
      "Prior score  118.85854617916222  and Data score  132.55791977986672\n",
      "Performance on the validation set  0.704\n",
      "Epoch  2\n",
      "Prior score  119.7966259569734  and Data score  131.1553198118132\n",
      "Performance on the validation set  0.7082\n",
      "Epoch  3\n",
      "Prior score  120.03490023861751  and Data score  129.97539308306187\n",
      "Performance on the validation set  0.7126\n",
      "Epoch  4\n",
      "Prior score  120.12349941852085  and Data score  127.49815308938399\n",
      "Performance on the validation set  0.7081\n",
      "Epoch  5\n",
      "Prior score  120.39838765300208  and Data score  127.73856891133796\n",
      "Performance on the validation set  0.7066\n",
      "Epoch  6\n",
      "Prior score  120.7909665791062  and Data score  128.1365502812966\n",
      "Performance on the validation set  0.7125\n",
      "Epoch  7\n",
      "Prior score  121.25824079976097  and Data score  128.57534906261907\n",
      "Performance on the validation set  0.7149\n",
      "Epoch  8\n",
      "Prior score  121.4776662092072  and Data score  125.74837830327112\n",
      "Performance on the validation set  0.7148\n",
      "Epoch  9\n",
      "Prior score  121.69633854178926  and Data score  123.38829157110428\n",
      "Performance on the validation set  0.7139\n",
      "Epoch  10\n",
      "Prior score  121.9201711937826  and Data score  123.51639645930841\n",
      "Performance on the validation set  0.705\n",
      "Time  5\n",
      "Epoch  1\n",
      "Prior score  117.60896734965648  and Data score  141.94256710900834\n",
      "Performance on the validation set  0.5259\n",
      "Epoch  2\n",
      "Prior score  117.87858569425124  and Data score  140.2876622933941\n",
      "Performance on the validation set  0.5589\n",
      "Epoch  3\n",
      "Prior score  118.47135983539162  and Data score  139.44965848813453\n",
      "Performance on the validation set  0.5361\n",
      "Epoch  4\n",
      "Prior score  118.64360284531628  and Data score  139.8635633711181\n",
      "Performance on the validation set  0.5207\n",
      "Epoch  5\n",
      "Prior score  118.74402859709676  and Data score  136.18039592275682\n",
      "Performance on the validation set  0.5439\n",
      "Epoch  6\n",
      "Prior score  119.00258538204355  and Data score  136.96747257455414\n",
      "Performance on the validation set  0.5576\n",
      "Epoch  7\n",
      "Prior score  119.24450818838935  and Data score  136.4653980677952\n",
      "Performance on the validation set  0.5716\n",
      "Epoch  8\n",
      "Prior score  119.64855974940542  and Data score  135.5473145140547\n",
      "Performance on the validation set  0.5473\n",
      "Epoch  9\n",
      "Prior score  119.50107837919514  and Data score  136.592611597152\n",
      "Performance on the validation set  0.5639\n",
      "Epoch  10\n",
      "Prior score  119.83869081888548  and Data score  135.6778924397921\n",
      "Performance on the validation set  0.5184\n",
      "Time  6\n",
      "Epoch  1\n",
      "Prior score  116.5852631436436  and Data score  139.4990123321401\n",
      "Performance on the validation set  0.5083\n",
      "Epoch  2\n",
      "Prior score  116.52403877236455  and Data score  138.42866439616293\n",
      "Performance on the validation set  0.5004\n",
      "Epoch  3\n",
      "Prior score  116.64678472078663  and Data score  136.47310256109262\n",
      "Performance on the validation set  0.4878\n",
      "Epoch  4\n",
      "Prior score  117.23074850985311  and Data score  136.61178176868628\n",
      "Performance on the validation set  0.4856\n",
      "Epoch  5\n",
      "Prior score  117.15555708322165  and Data score  136.29470050176772\n",
      "Performance on the validation set  0.4789\n",
      "Epoch  6\n",
      "Prior score  117.39476931379942  and Data score  133.68935017957426\n",
      "Performance on the validation set  0.4934\n",
      "Epoch  7\n",
      "Prior score  117.82030444829827  and Data score  134.1560118299779\n",
      "Performance on the validation set  0.4901\n",
      "Epoch  8\n",
      "Prior score  117.96177409074994  and Data score  134.55127672489164\n",
      "Performance on the validation set  0.4798\n",
      "Epoch  9\n",
      "Prior score  118.2133303230283  and Data score  135.06303386229342\n",
      "Performance on the validation set  0.4987\n",
      "Epoch  10\n",
      "Prior score  118.07585443263524  and Data score  133.81635119068915\n",
      "Performance on the validation set  0.4772\n",
      "Time  7\n",
      "Epoch  1\n",
      "Prior score  115.07839114997228  and Data score  126.59472888749168\n",
      "Performance on the validation set  0.6544\n",
      "Epoch  2\n",
      "Prior score  115.56776907704356  and Data score  126.14128781659346\n",
      "Performance on the validation set  0.6533\n",
      "Epoch  3\n",
      "Prior score  115.50868769402754  and Data score  124.7681140294004\n",
      "Performance on the validation set  0.6499\n",
      "Epoch  4\n",
      "Prior score  115.76021069712505  and Data score  124.84867276368047\n",
      "Performance on the validation set  0.6567\n",
      "Epoch  5\n",
      "Prior score  115.93404108178412  and Data score  124.47195869903287\n",
      "Performance on the validation set  0.6556\n",
      "Epoch  6\n",
      "Prior score  116.24268069961647  and Data score  122.64044317278021\n",
      "Performance on the validation set  0.6558\n",
      "Epoch  7\n",
      "Prior score  116.2316564596054  and Data score  124.6093617463552\n",
      "Performance on the validation set  0.6545\n",
      "Epoch  8\n",
      "Prior score  115.98913376491623  and Data score  123.42002919962576\n",
      "Performance on the validation set  0.6554\n",
      "Epoch  9\n",
      "Prior score  116.82211809642952  and Data score  121.84759758751811\n",
      "Performance on the validation set  0.6559\n",
      "Epoch  10\n",
      "Prior score  116.61906396457468  and Data score  121.80588566107501\n",
      "Performance on the validation set  0.6584\n",
      "Time  8\n",
      "Epoch  1\n",
      "Prior score  113.94664005468144  and Data score  105.6062844465904\n",
      "Performance on the validation set  0.7897\n",
      "Epoch  2\n",
      "Prior score  114.17105607606972  and Data score  104.96173801841128\n",
      "Performance on the validation set  0.7897\n",
      "Epoch  3\n",
      "Prior score  114.08641288216525  and Data score  101.6927678725561\n",
      "Performance on the validation set  0.791\n",
      "Epoch  4\n",
      "Prior score  114.58102905903911  and Data score  102.74909815717076\n",
      "Performance on the validation set  0.7911\n",
      "Epoch  5\n",
      "Prior score  114.72205873975268  and Data score  100.94760597484878\n",
      "Performance on the validation set  0.7934\n",
      "Epoch  6\n",
      "Prior score  114.92274910257366  and Data score  101.86514627338046\n",
      "Performance on the validation set  0.7928\n",
      "Epoch  7\n",
      "Prior score  114.92980986981776  and Data score  100.06626322775425\n",
      "Performance on the validation set  0.7924\n",
      "Epoch  8\n",
      "Prior score  115.18380559712062  and Data score  101.4524579150463\n",
      "Performance on the validation set  0.7935\n",
      "Epoch  9\n",
      "Prior score  115.29953094513397  and Data score  100.37582230379358\n",
      "Performance on the validation set  0.7922\n",
      "Epoch  10\n",
      "Prior score  115.25128415049926  and Data score  99.16908717284548\n",
      "Performance on the validation set  0.7911\n",
      "Time  9\n",
      "Epoch  1\n",
      "Prior score  112.94664749538519  and Data score  74.31886889909508\n",
      "Performance on the validation set  0.8872\n",
      "Epoch  2\n",
      "Prior score  113.00373716702218  and Data score  70.52488621483685\n",
      "Performance on the validation set  0.8866\n",
      "Epoch  3\n",
      "Prior score  113.46723249086138  and Data score  72.36870406123967\n",
      "Performance on the validation set  0.8895\n",
      "Epoch  4\n",
      "Prior score  113.52504942343705  and Data score  69.6561090311458\n",
      "Performance on the validation set  0.889\n",
      "Epoch  5\n",
      "Prior score  113.19536414713428  and Data score  68.3599121546989\n",
      "Performance on the validation set  0.8885\n",
      "Epoch  6\n",
      "Prior score  113.48599884127837  and Data score  69.34099765719505\n",
      "Performance on the validation set  0.888\n",
      "Epoch  7\n",
      "Prior score  113.73460526694132  and Data score  66.79577831141827\n",
      "Performance on the validation set  0.8885\n",
      "Epoch  8\n",
      "Prior score  113.75263535400737  and Data score  68.48473186544629\n",
      "Performance on the validation set  0.8907\n",
      "Epoch  9\n",
      "Prior score  113.76994606114677  and Data score  68.23879832006763\n",
      "Performance on the validation set  0.889\n",
      "Epoch  10\n",
      "Prior score  113.6855390520293  and Data score  68.11271557218453\n",
      "Performance on the validation set  0.8877\n",
      "Time  10\n",
      "Epoch  1\n",
      "Prior score  111.27340319437629  and Data score  51.27554540948336\n",
      "Performance on the validation set  0.9401\n",
      "Epoch  2\n",
      "Prior score  112.07534329628935  and Data score  48.04587067452431\n",
      "Performance on the validation set  0.9418\n",
      "Epoch  3\n",
      "Prior score  112.27487152253663  and Data score  48.15239836970732\n",
      "Performance on the validation set  0.9429\n",
      "Epoch  4\n",
      "Prior score  112.05052721376117  and Data score  45.99634753994179\n",
      "Performance on the validation set  0.9424\n",
      "Epoch  5\n",
      "Prior score  112.41151385667126  and Data score  45.648757561528505\n",
      "Performance on the validation set  0.943\n",
      "Epoch  6\n",
      "Prior score  112.71157098397762  and Data score  46.23134162495595\n",
      "Performance on the validation set  0.9426\n",
      "Epoch  7\n",
      "Prior score  112.63712246462316  and Data score  45.045421851932375\n",
      "Performance on the validation set  0.9429\n",
      "Epoch  8\n",
      "Prior score  112.97124321912618  and Data score  44.77233142670739\n",
      "Performance on the validation set  0.9434\n",
      "Epoch  9\n",
      "Prior score  113.13139281580636  and Data score  44.360639839960754\n",
      "Performance on the validation set  0.9425\n",
      "Epoch  10\n",
      "Prior score  113.16862545487511  and Data score  44.85220342449608\n",
      "Performance on the validation set  0.943\n",
      "Time  11\n",
      "Epoch  1\n",
      "Prior score  110.00350106722509  and Data score  44.55977748314514\n",
      "Performance on the validation set  0.9389\n",
      "Epoch  2\n",
      "Prior score  109.9694814242134  and Data score  41.06757974642806\n",
      "Performance on the validation set  0.9403\n",
      "Epoch  3\n",
      "Prior score  110.08405901930965  and Data score  41.37150784121697\n",
      "Performance on the validation set  0.9429\n",
      "Epoch  4\n",
      "Prior score  110.38056068768086  and Data score  42.796940550887186\n",
      "Performance on the validation set  0.9421\n",
      "Epoch  5\n",
      "Prior score  110.39955770978813  and Data score  41.167886445156036\n",
      "Performance on the validation set  0.9436\n",
      "Epoch  6\n",
      "Prior score  110.40777427972264  and Data score  40.143582159603326\n",
      "Performance on the validation set  0.9437\n",
      "Epoch  7\n",
      "Prior score  110.28447594839778  and Data score  40.22770990991895\n",
      "Performance on the validation set  0.9412\n",
      "Epoch  8\n",
      "Prior score  110.71741940696975  and Data score  38.51512759143569\n",
      "Performance on the validation set  0.9426\n",
      "Epoch  9\n",
      "Prior score  110.99764675932401  and Data score  41.3107395458758\n",
      "Performance on the validation set  0.9437\n",
      "Epoch  10\n",
      "Prior score  110.77392835812635  and Data score  40.943450738114215\n",
      "Performance on the validation set  0.9433\n",
      "Time  12\n",
      "Epoch  1\n",
      "Prior score  109.13284407161835  and Data score  71.30224263028698\n",
      "Performance on the validation set  0.8928\n",
      "Epoch  2\n",
      "Prior score  109.3178285240901  and Data score  69.60758503282835\n",
      "Performance on the validation set  0.8947\n",
      "Epoch  3\n",
      "Prior score  109.6783888937399  and Data score  68.12737497956552\n",
      "Performance on the validation set  0.8932\n",
      "Epoch  4\n",
      "Prior score  109.7700633955622  and Data score  66.10697430733829\n",
      "Performance on the validation set  0.894\n",
      "Epoch  5\n",
      "Prior score  109.70504901323955  and Data score  66.21079490161462\n",
      "Performance on the validation set  0.8926\n",
      "Epoch  6\n",
      "Prior score  109.89922266267709  and Data score  66.5775168904057\n",
      "Performance on the validation set  0.8941\n",
      "Epoch  7\n",
      "Prior score  110.01144754310101  and Data score  65.85002119006414\n",
      "Performance on the validation set  0.8945\n",
      "Epoch  8\n",
      "Prior score  110.20862811792006  and Data score  66.15240796549834\n",
      "Performance on the validation set  0.8932\n",
      "Epoch  9\n",
      "Prior score  110.07966639212792  and Data score  65.5818469617499\n",
      "Performance on the validation set  0.8943\n",
      "Epoch  10\n",
      "Prior score  110.36126561681434  and Data score  66.4960642179588\n",
      "Performance on the validation set  0.8924\n",
      "Time  13\n",
      "Epoch  1\n",
      "Prior score  107.68573701208253  and Data score  99.46004316314259\n",
      "Performance on the validation set  0.7997\n",
      "Epoch  2\n",
      "Prior score  108.05496480990303  and Data score  96.81794688290135\n",
      "Performance on the validation set  0.7991\n",
      "Epoch  3\n",
      "Prior score  108.03402566250689  and Data score  97.6784434495652\n",
      "Performance on the validation set  0.7984\n",
      "Epoch  4\n",
      "Prior score  108.25682421791204  and Data score  96.09126393024147\n",
      "Performance on the validation set  0.7995\n",
      "Epoch  5\n",
      "Prior score  108.54592852525718  and Data score  95.77435308962792\n",
      "Performance on the validation set  0.7974\n",
      "Epoch  6\n",
      "Prior score  108.51998629643087  and Data score  95.2208093569761\n",
      "Performance on the validation set  0.7992\n",
      "Epoch  7\n",
      "Prior score  108.27724910792297  and Data score  94.26158493521784\n",
      "Performance on the validation set  0.8002\n",
      "Epoch  8\n",
      "Prior score  108.3834617758112  and Data score  96.64942069532981\n",
      "Performance on the validation set  0.7991\n",
      "Epoch  9\n",
      "Prior score  108.7055045684768  and Data score  95.2323984299172\n",
      "Performance on the validation set  0.7994\n",
      "Epoch  10\n",
      "Prior score  108.78062261529095  and Data score  94.55375681892414\n",
      "Performance on the validation set  0.7986\n",
      "Time  14\n",
      "Epoch  1\n",
      "Prior score  106.41120083820456  and Data score  117.97598350049823\n",
      "Performance on the validation set  0.6508\n",
      "Epoch  2\n",
      "Prior score  106.71474764297709  and Data score  116.75720868927093\n",
      "Performance on the validation set  0.6372\n",
      "Epoch  3\n",
      "Prior score  106.64166154557529  and Data score  116.02236663770185\n",
      "Performance on the validation set  0.6733\n",
      "Epoch  4\n",
      "Prior score  106.77746897482415  and Data score  115.61404627570352\n",
      "Performance on the validation set  0.6724\n",
      "Epoch  5\n",
      "Prior score  107.05708816416816  and Data score  115.10931431755853\n",
      "Performance on the validation set  0.6725\n",
      "Epoch  6\n",
      "Prior score  106.57358889838575  and Data score  114.5272227138556\n",
      "Performance on the validation set  0.6541\n",
      "Epoch  7\n",
      "Prior score  106.83164087391954  and Data score  115.77341742735517\n",
      "Performance on the validation set  0.6742\n",
      "Epoch  8\n"
     ]
    },
    {
     "name": "stdout",
     "output_type": "stream",
     "text": [
      "Prior score  106.99748574848476  and Data score  114.48504406412077\n",
      "Performance on the validation set  0.6733\n",
      "Epoch  9\n",
      "Prior score  107.2836255842212  and Data score  113.62089854205794\n",
      "Performance on the validation set  0.6743\n",
      "Epoch  10\n",
      "Prior score  107.02297416817531  and Data score  113.02385056109459\n",
      "Performance on the validation set  0.6733\n",
      "Time  15\n",
      "Epoch  1\n",
      "Prior score  105.22685157217849  and Data score  127.67564738203565\n",
      "Performance on the validation set  0.4946\n",
      "Epoch  2\n",
      "Prior score  105.5537515288454  and Data score  126.99741539173432\n",
      "Performance on the validation set  0.4731\n",
      "Epoch  3\n",
      "Prior score  105.41199983378719  and Data score  126.11270746650763\n",
      "Performance on the validation set  0.4602\n",
      "Epoch  4\n",
      "Prior score  105.65949035472684  and Data score  125.03421710127972\n",
      "Performance on the validation set  0.4937\n",
      "Epoch  5\n",
      "Prior score  105.6688715545756  and Data score  125.68976796173166\n",
      "Performance on the validation set  0.4908\n",
      "Epoch  6\n",
      "Prior score  105.76461158328064  and Data score  123.53429389692509\n",
      "Performance on the validation set  0.4926\n",
      "Epoch  7\n",
      "Prior score  106.13703811323278  and Data score  125.76220221553397\n",
      "Performance on the validation set  0.5089\n",
      "Epoch  8\n",
      "Prior score  105.81189998695372  and Data score  124.4160820915478\n",
      "Performance on the validation set  0.4913\n",
      "Epoch  9\n",
      "Prior score  105.7442670335928  and Data score  122.76476455541265\n",
      "Performance on the validation set  0.4966\n",
      "Epoch  10\n",
      "Prior score  106.01759260387324  and Data score  124.92362332642486\n",
      "Performance on the validation set  0.498\n",
      "Time  16\n",
      "Epoch  1\n",
      "Prior score  104.09510393963103  and Data score  120.33106977689123\n",
      "Performance on the validation set  0.5932\n",
      "Epoch  2\n",
      "Prior score  103.9473886231231  and Data score  120.04089371402941\n",
      "Performance on the validation set  0.5727\n",
      "Epoch  3\n",
      "Prior score  104.08228044049974  and Data score  120.08659422853275\n",
      "Performance on the validation set  0.5781\n",
      "Epoch  4\n",
      "Prior score  104.38734528646036  and Data score  118.46425372697664\n",
      "Performance on the validation set  0.5975\n",
      "Epoch  5\n",
      "Prior score  104.34475491727468  and Data score  119.59107833079528\n",
      "Performance on the validation set  0.5957\n",
      "Epoch  6\n",
      "Prior score  104.42477399805847  and Data score  117.04661910341672\n",
      "Performance on the validation set  0.5949\n",
      "Epoch  7\n",
      "Prior score  104.48760786875562  and Data score  118.4393478626783\n",
      "Performance on the validation set  0.5652\n",
      "Epoch  8\n",
      "Prior score  104.31729985868272  and Data score  119.12344815837183\n",
      "Performance on the validation set  0.5683\n",
      "Epoch  9\n",
      "Prior score  104.55802894657477  and Data score  118.02150521727454\n",
      "Performance on the validation set  0.5972\n",
      "Epoch  10\n",
      "Prior score  104.88843842103572  and Data score  118.10113458364958\n",
      "Performance on the validation set  0.5725\n",
      "Time  17\n",
      "Epoch  1\n",
      "Prior score  102.76563029914122  and Data score  105.73616307670214\n",
      "Performance on the validation set  0.7352\n",
      "Epoch  2\n",
      "Prior score  102.99016396662087  and Data score  103.89690053995942\n",
      "Performance on the validation set  0.7356\n",
      "Epoch  3\n",
      "Prior score  102.96140489448223  and Data score  104.25737325485082\n",
      "Performance on the validation set  0.7359\n",
      "Epoch  4\n",
      "Prior score  103.32255981886354  and Data score  104.91308903511937\n",
      "Performance on the validation set  0.7344\n",
      "Epoch  5\n",
      "Prior score  103.11959004197179  and Data score  104.4496468378355\n",
      "Performance on the validation set  0.7353\n",
      "Epoch  6\n",
      "Prior score  103.20440293584171  and Data score  103.15166399808426\n",
      "Performance on the validation set  0.7351\n",
      "Epoch  7\n",
      "Prior score  103.33134635289863  and Data score  103.84130716413831\n",
      "Performance on the validation set  0.7357\n",
      "Epoch  8\n",
      "Prior score  103.42791936979175  and Data score  102.5039626914591\n",
      "Performance on the validation set  0.7369\n",
      "Epoch  9\n",
      "Prior score  103.57221721012336  and Data score  101.69813555119597\n",
      "Performance on the validation set  0.7366\n",
      "Epoch  10\n",
      "Prior score  103.52406444697658  and Data score  103.78524503826611\n",
      "Performance on the validation set  0.7366\n",
      "Time  18\n",
      "Epoch  1\n",
      "Prior score  101.51620490833912  and Data score  79.48870541148196\n",
      "Performance on the validation set  0.8536\n",
      "Epoch  2\n",
      "Prior score  101.84502042195649  and Data score  77.75666491865248\n",
      "Performance on the validation set  0.8564\n",
      "Epoch  3\n",
      "Prior score  102.09972863994109  and Data score  78.23811377291273\n",
      "Performance on the validation set  0.8562\n",
      "Epoch  4\n",
      "Prior score  102.13713826789233  and Data score  78.54884942523469\n",
      "Performance on the validation set  0.8558\n",
      "Epoch  5\n",
      "Prior score  102.2424296007633  and Data score  78.96729155785374\n",
      "Performance on the validation set  0.855\n",
      "Epoch  6\n",
      "Prior score  102.14241676926241  and Data score  76.62825959894116\n",
      "Performance on the validation set  0.8525\n",
      "Epoch  7\n",
      "Prior score  102.27181672539321  and Data score  77.68915148939719\n",
      "Performance on the validation set  0.856\n",
      "Epoch  8\n",
      "Prior score  102.56758307235435  and Data score  76.87851923092724\n",
      "Performance on the validation set  0.857\n",
      "Epoch  9\n",
      "Prior score  102.46569914359314  and Data score  77.48891697841144\n",
      "Performance on the validation set  0.8549\n",
      "Epoch  10\n",
      "Prior score  102.56692603591708  and Data score  77.3181242060323\n",
      "Performance on the validation set  0.8547\n",
      "Time  19\n",
      "Epoch  1\n",
      "Prior score  100.73849139288913  and Data score  48.61455451485913\n",
      "Performance on the validation set  0.9301\n",
      "Epoch  2\n",
      "Prior score  100.99550834816505  and Data score  48.78080695231895\n",
      "Performance on the validation set  0.9311\n",
      "Epoch  3\n",
      "Prior score  101.10924962394913  and Data score  49.17051688371674\n",
      "Performance on the validation set  0.9308\n",
      "Epoch  4\n",
      "Prior score  101.46500988392248  and Data score  47.80084656175166\n",
      "Performance on the validation set  0.9316\n",
      "Epoch  5\n",
      "Prior score  101.43477840464705  and Data score  47.891077126901585\n",
      "Performance on the validation set  0.9323\n",
      "Epoch  6\n",
      "Prior score  101.5502950642524  and Data score  46.432675808051016\n",
      "Performance on the validation set  0.932\n",
      "Epoch  7\n",
      "Prior score  101.78669024494198  and Data score  46.53905587329726\n",
      "Performance on the validation set  0.933\n",
      "Epoch  8\n",
      "Prior score  101.71393850175527  and Data score  46.691777751306326\n",
      "Performance on the validation set  0.9307\n",
      "Epoch  9\n",
      "Prior score  102.00985466319254  and Data score  46.53131825828495\n",
      "Performance on the validation set  0.934\n",
      "Epoch  10\n",
      "Prior score  101.81827816193011  and Data score  46.146187588235065\n",
      "Performance on the validation set  0.9323\n",
      "Time  20\n",
      "Epoch  1\n",
      "Prior score  99.63970826708072  and Data score  33.58691450398644\n",
      "Performance on the validation set  0.9561\n",
      "Epoch  2\n",
      "Prior score  100.267555745663  and Data score  31.21649854937329\n",
      "Performance on the validation set  0.9559\n",
      "Epoch  3\n",
      "Prior score  100.21798448288934  and Data score  31.08410983615441\n",
      "Performance on the validation set  0.9568\n",
      "Epoch  4\n",
      "Prior score  100.24265420443227  and Data score  29.413221817096463\n",
      "Performance on the validation set  0.9579\n",
      "Epoch  5\n",
      "Prior score  100.65126776079765  and Data score  28.956740732416822\n",
      "Performance on the validation set  0.957\n",
      "Epoch  6\n",
      "Prior score  100.97361605307968  and Data score  28.468544627249894\n",
      "Performance on the validation set  0.9568\n",
      "Epoch  7\n",
      "Prior score  100.77836611588643  and Data score  28.094591720841656\n",
      "Performance on the validation set  0.9575\n",
      "Epoch  8\n",
      "Prior score  101.09281297495984  and Data score  28.531909743028717\n",
      "Performance on the validation set  0.9591\n",
      "Epoch  9\n",
      "Prior score  100.81124520531098  and Data score  27.986221700824828\n",
      "Performance on the validation set  0.9557\n",
      "Epoch  10\n",
      "Prior score  101.17684648082142  and Data score  27.80063553856793\n",
      "Performance on the validation set  0.957\n"
     ]
    }
   ],
   "source": [
    "# Loss function\n",
    "loss_function = torch.nn.CrossEntropyLoss(reduction = 'sum')\n",
    "\n",
    "\n",
    "HMMNET = torchHHMnet(architecture, alpha_k, sigma_k, c, pi, p, loss_function, sample_size, minibatch_size, epocs, T, sliding, workers = 4)\n",
    "\n",
    "HMMNET.forward_pass(tr_x_tr, tr_y_tr, tr_x_val, tr_y_val, lr_c, mc_c)"
   ]
  },
  {
   "cell_type": "markdown",
   "metadata": {},
   "source": [
    "### Validation and Test procedure"
   ]
  },
  {
   "cell_type": "markdown",
   "metadata": {},
   "source": [
    "Divide in validation and test"
   ]
  },
  {
   "cell_type": "code",
   "execution_count": 53,
   "metadata": {},
   "outputs": [],
   "source": [
    "task_size_val = 10000\n",
    "\n",
    "tr_x_test = np.zeros((int(task_size_val/2)*19, 784))\n",
    "tr_y_test = np.zeros((int(task_size_val/2)*19))\n",
    "\n",
    "tr_x_val = np.zeros((int(task_size_val/2)*19, 784))\n",
    "tr_y_val = np.zeros((int(task_size_val/2)*19))\n",
    "\n",
    "for t in range(0, 19):\n",
    "#     print(t)\n",
    "    tr_x_val[(t)*int(task_size_val/2):(t+1)*int(task_size_val/2),:]  = tr_x_te[(t)*task_size_val:(t)*task_size_val+int(task_size_val/2),:]\n",
    "    tr_x_test[(t)*int(task_size_val/2):(t+1)*int(task_size_val/2),:] = tr_x_te[(t)*task_size_val+int(task_size_val/2):(t+1)*task_size_val,:]\n",
    "    \n",
    "    tr_y_val[(t)*int(task_size_val/2):(t+1)*int(task_size_val/2)]  = tr_y_te[(t)*task_size_val:(t)*task_size_val+int(task_size_val/2)]\n",
    "    tr_y_test[(t)*int(task_size_val/2):(t+1)*int(task_size_val/2)] = tr_y_te[(t)*task_size_val+int(task_size_val/2):(t+1)*task_size_val]   "
   ]
  },
  {
   "cell_type": "markdown",
   "metadata": {},
   "source": [
    "Validation plot"
   ]
  },
  {
   "cell_type": "code",
   "execution_count": 54,
   "metadata": {},
   "outputs": [],
   "source": [
    "val_performance = np.zeros(19)\n",
    "task_size_val = 5000\n",
    "for t in range(0,19):\n",
    "    y_predicted     = np.zeros(len(tr_y_val[t*task_size_val:(t+1)*task_size_val]))\n",
    "\n",
    "    output           = HMMNET.model_list[t+1].performance( torch.tensor( tr_x_val[t*task_size_val:(t+1)*task_size_val,:], dtype = torch.float64 ) )\n",
    "    output_softmax   = F.softmax(output, dim=1)\n",
    "\n",
    "    y_predicted = np.array( range(0, 10) )[ np.argmax( output_softmax.data.numpy(), 1 ) ]\n",
    "\n",
    "    val_performance[t] = sum(tr_y_val[t*task_size_val:(t+1)*task_size_val] == y_predicted)/len(tr_y_val[t*task_size_val:(t+1)*task_size_val])"
   ]
  },
  {
   "cell_type": "code",
   "execution_count": 55,
   "metadata": {},
   "outputs": [
    {
     "data": {
      "image/png": "[encoded data removed]",
      "text/plain": [
       "<Figure size 432x288 with 1 Axes>"
      ]
     },
     "metadata": {
      "needs_background": "light"
     },
     "output_type": "display_data"
    }
   ],
   "source": [
    "plt.plot(val_performance)\n",
    "plt.show()"
   ]
  },
  {
   "cell_type": "markdown",
   "metadata": {},
   "source": [
    "Test performance (mean over time of the accuracy)"
   ]
  },
  {
   "cell_type": "code",
   "execution_count": 62,
   "metadata": {},
   "outputs": [
    {
     "name": "stdout",
     "output_type": "stream",
     "text": [
      "Performance on the test set  0.7634526315789474\n"
     ]
    }
   ],
   "source": [
    "test_performance = np.zeros(19)\n",
    "task_size_test = 5000\n",
    "\n",
    "for t in range(0,19):\n",
    "    y_predictestd     = np.zeros(len(tr_y_test[t*task_size_test:(t+1)*task_size_test]))\n",
    "\n",
    "    output           = HMMNET.model_list[t+1].performance( torch.tensor( tr_x_test[t*task_size_test:(t+1)*task_size_test,:], dtype = torch.float64 ) )\n",
    "    output_softmax   = F.softmax(output, dim=1)\n",
    "\n",
    "    y_predicted = np.array( range(0, 10) )[ np.argmax( output_softmax.data.numpy(), 1 ) ]\n",
    "\n",
    "    test_performance[t] = sum(tr_y_test[t*task_size_test:(t+1)*task_size_test] == y_predicted)/len(tr_y_test[t*task_size_test:(t+1)*task_size_test])\n",
    "\n",
    "print(\"Performance on the test set \", np.mean(test_performance))"
   ]
  },
  {
   "cell_type": "markdown",
   "metadata": {},
   "source": [
    "## Bayes by Backprop on the whole dataset"
   ]
  },
  {
   "cell_type": "markdown",
   "metadata": {},
   "source": [
    "### Set the hyper parameters for the training"
   ]
  },
  {
   "cell_type": "code",
   "execution_count": 63,
   "metadata": {},
   "outputs": [],
   "source": [
    "# The sample size\n",
    "sample_size    = 200000\n",
    "# The minibatch size\n",
    "minibatch_size = 128\n",
    "# The number of epochs\n",
    "\n",
    "epocs          = 10 #Optimal value 600\n",
    "# This parameter if use to retrain on part of the previous data. \n",
    "# If sliding = sample_size then we move to a new set of data.\n",
    "sliding = 0\n",
    "# Number of Sequential training we want to do\n",
    "T = 1\n",
    "\n",
    "###########################################################\n",
    "# Set the network structure\n",
    "# Depth\n",
    "L = 4\n",
    "# Structure of the hidden units\n",
    "architecture = np.array([784, 100, 100, 10])\n",
    "\n",
    "# Kernel parameter of the HMNN\n",
    "alpha_k = 0.0\n",
    "sigma_k = np.exp(-2)\n",
    "c       = np.exp(5)\n",
    "pi      = 0.5\n",
    "\n",
    "# Mixture weight for the variational dropconnect\n",
    "p       = 0.8\n",
    "\n",
    "# Learning rate\n",
    "lr_c = 1e-3\n",
    "\n",
    "# Size of the Monte Carlo sample\n",
    "mc_c = 1"
   ]
  },
  {
   "cell_type": "markdown",
   "metadata": {},
   "source": [
    "### Training procedure"
   ]
  },
  {
   "cell_type": "code",
   "execution_count": 64,
   "metadata": {
    "scrolled": true
   },
   "outputs": [
    {
     "name": "stdout",
     "output_type": "stream",
     "text": [
      "Time  1\n",
      "Epoch  1\n",
      "Prior score  48.72051565238155  and Data score  209.38947853206454\n",
      "Performance on the validation set  0.45952631578947367\n",
      "Epoch  2\n",
      "Prior score  49.790262395937354  and Data score  147.5162805841129\n",
      "Performance on the validation set  0.4680526315789474\n",
      "Epoch  3\n",
      "Prior score  50.43563401566258  and Data score  136.85363282615475\n",
      "Performance on the validation set  0.47349473684210525\n",
      "Epoch  4\n",
      "Prior score  50.93388740238188  and Data score  130.9782446113977\n",
      "Performance on the validation set  0.47646315789473687\n",
      "Epoch  5\n",
      "Prior score  51.336655723190226  and Data score  127.06270379403013\n",
      "Performance on the validation set  0.4803368421052632\n",
      "Epoch  6\n",
      "Prior score  51.65277612688113  and Data score  124.54391040238542\n",
      "Performance on the validation set  0.4806947368421053\n",
      "Epoch  7\n",
      "Prior score  51.90755295474439  and Data score  122.80944259151262\n",
      "Performance on the validation set  0.4815684210526316\n",
      "Epoch  8\n",
      "Prior score  52.11655741529687  and Data score  121.30338877087361\n",
      "Performance on the validation set  0.4822421052631579\n",
      "Epoch  9\n",
      "Prior score  52.29735225829916  and Data score  120.07827658678002\n",
      "Performance on the validation set  0.48485263157894737\n",
      "Epoch  10\n",
      "Prior score  52.45793834560359  and Data score  119.07073818266593\n",
      "Performance on the validation set  0.48445263157894736\n"
     ]
    }
   ],
   "source": [
    "# Loss function\n",
    "loss_function = torch.nn.CrossEntropyLoss(reduction = 'sum')\n",
    "\n",
    "\n",
    "HMMNET_nokernel = torchHHMnet(architecture, alpha_k, sigma_k, c, pi, p, loss_function, sample_size, minibatch_size, epocs, T, sliding, workers = 4)\n",
    "\n",
    "HMMNET_nokernel.forward_pass(tr_x_tr, tr_y_tr, tr_x_val, tr_y_val, lr_c, 2)"
   ]
  },
  {
   "cell_type": "markdown",
   "metadata": {},
   "source": [
    "Test performance (mean over time of the accuracy)"
   ]
  },
  {
   "cell_type": "code",
   "execution_count": 67,
   "metadata": {},
   "outputs": [
    {
     "name": "stdout",
     "output_type": "stream",
     "text": [
      "Performance on the test set  0.48048421052631585\n"
     ]
    }
   ],
   "source": [
    "test_performance = np.zeros(19)\n",
    "task_size_test = 5000\n",
    "\n",
    "for t in range(0,1):\n",
    "    y_predictestd     = np.zeros(len(tr_y_test[t*task_size_test:(t+1)*task_size_test]))\n",
    "\n",
    "    output           = HMMNET_nokernel.model_list[t+1].performance( torch.tensor( tr_x_test, dtype = torch.float64 ) )\n",
    "    output_softmax   = F.softmax(output, dim=1)\n",
    "\n",
    "    y_predicted = np.array( range(0, 10) )[ np.argmax( output_softmax.data.numpy(), 1 ) ]\n",
    "\n",
    "    test_performance[t] = sum(tr_y_test == y_predicted)/len(tr_y_test[t*task_size_test:(t+1)*task_size_test])\n",
    "\n",
    "print(\"Performance on the test set \", np.mean(test_performance))"
   ]
  },
  {
   "cell_type": "code",
   "execution_count": null,
   "metadata": {},
   "outputs": [],
   "source": []
  },
  {
   "cell_type": "code",
   "execution_count": null,
   "metadata": {},
   "outputs": [],
   "source": []
  },
  {
   "cell_type": "code",
   "execution_count": null,
   "metadata": {},
   "outputs": [],
   "source": []
  },
  {
   "cell_type": "code",
   "execution_count": null,
   "metadata": {},
   "outputs": [],
   "source": []
  },
  {
   "cell_type": "code",
   "execution_count": null,
   "metadata": {},
   "outputs": [],
   "source": []
  },
  {
   "cell_type": "code",
   "execution_count": null,
   "metadata": {},
   "outputs": [],
   "source": []
  },
  {
   "cell_type": "code",
   "execution_count": null,
   "metadata": {},
   "outputs": [],
   "source": []
  }
 ],
 "metadata": {
  "kernelspec": {
   "display_name": "Python 3",
   "language": "python",
   "name": "python3"
  },
  "language_info": {
   "codemirror_mode": {
    "name": "ipython",
    "version": 3
   },
   "file_extension": ".py",
   "mimetype": "text/x-python",
   "name": "python",
   "nbconvert_exporter": "python",
   "pygments_lexer": "ipython3",
   "version": "3.7.3"
  }
 },
 "nbformat": 4,
 "nbformat_minor": 2
}
