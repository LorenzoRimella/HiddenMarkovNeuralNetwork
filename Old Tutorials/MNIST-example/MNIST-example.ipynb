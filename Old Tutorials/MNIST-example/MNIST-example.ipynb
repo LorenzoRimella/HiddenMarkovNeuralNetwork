{
 "cells": [
  {
   "cell_type": "markdown",
   "metadata": {},
   "source": [
    "# HIDDEN MARKOV NEURAL NETWORK: MNIST example"
   ]
  },
  {
   "cell_type": "markdown",
   "metadata": {},
   "source": [
    "## Import libraries"
   ]
  },
  {
   "cell_type": "code",
   "execution_count": 1,
   "metadata": {},
   "outputs": [],
   "source": [
    "import torch\n",
    "import torch.nn as nn\n",
    "import torch.nn.functional as F\n",
    "\n",
    "from sklearn.model_selection import train_test_split\n",
    "from sklearn import preprocessing\n",
    "\n",
    "\n",
    "import pickle\n",
    "\n",
    "import gzip\n",
    "\n",
    "import numpy as np\n",
    "import random\n",
    "\n",
    "import BayesianNetwork"
   ]
  },
  {
   "cell_type": "markdown",
   "metadata": {},
   "source": [
    "## Data processing"
   ]
  },
  {
   "cell_type": "code",
   "execution_count": 2,
   "metadata": {},
   "outputs": [],
   "source": [
    "# Set the seed to guarantee reproducibility\n",
    "seed_number = 123\n",
    "\n",
    "random.seed(seed_number)\n",
    "torch.manual_seed(seed_number)\n",
    "np.random.seed(seed_number)"
   ]
  },
  {
   "cell_type": "markdown",
   "metadata": {},
   "source": [
    "The files \"train-labels-idx1-ubyte.gz\" and \"train-images-idx3-ubyte.gz\" are downloaded from:\n",
    "\n",
    "- http://yann.lecun.com/exdb/mnist/"
   ]
  },
  {
   "cell_type": "code",
   "execution_count": 3,
   "metadata": {},
   "outputs": [],
   "source": [
    "def load_mnist():\n",
    "    \"\"\"Load MNIST data from `path`\"\"\"\n",
    "    labels_path = 'train-labels-idx1-ubyte.gz'\n",
    "    images_path = 'train-images-idx3-ubyte.gz'\n",
    "        \n",
    "    with gzip.open(labels_path, 'rb') as lbpath:\n",
    "        lbpath.read(8)\n",
    "        buffer = lbpath.read()\n",
    "        labels = np.frombuffer(buffer, dtype=np.uint8)\n",
    "\n",
    "    with gzip.open(images_path, 'rb') as imgpath:\n",
    "        imgpath.read(16)\n",
    "        buffer = imgpath.read()\n",
    "        images = np.frombuffer(buffer, \n",
    "                               dtype=np.uint8).reshape(\n",
    "            len(labels), 784).astype(np.float64)\n",
    " \n",
    "    return images, labels\n",
    "\n",
    "def mnist_preprocessing(x, y, sample_N = 600000, test_ratio = 0.25):\n",
    "\n",
    "    x = np.float32(x) / 126.\n",
    "    np.save(\"mnist_preprocessed_data\", x)\n",
    "    y = np.int32(y)\n",
    "    np.save(\"mnist_preprocessed_target\", y)\n",
    "    idx = np.random.choice(x.shape[0], sample_N)\n",
    "    x = x[idx]\n",
    "    y = y[idx]\n",
    "\n",
    "    tr_idx, te_idx = train_test_split(np.arange(sample_N), test_size = test_ratio)\n",
    "    tr_x, te_x = x[tr_idx], x[te_idx]\n",
    "    tr_y, te_y = y[tr_idx], y[te_idx]\n",
    "\n",
    "    return tr_x,te_x,tr_y,te_y"
   ]
  },
  {
   "cell_type": "code",
   "execution_count": 4,
   "metadata": {},
   "outputs": [],
   "source": [
    "x, y = load_mnist()\n",
    "tr_x, va_x, tr_y, va_y = mnist_preprocessing(x, y)\n",
    "\n",
    "# Split in training and validation: \n",
    "x_tr  = tr_x[0:50000]\n",
    "y_tr  = tr_y[0:50000]\n",
    "\n",
    "x_val = va_x[50000:60000]\n",
    "y_val = va_y[50000:60000]"
   ]
  },
  {
   "cell_type": "markdown",
   "metadata": {},
   "source": [
    "## Set the hyper parameters for the training"
   ]
  },
  {
   "cell_type": "code",
   "execution_count": 5,
   "metadata": {},
   "outputs": [],
   "source": [
    "# The sample size\n",
    "sample_size    = 10000\n",
    "# The minibatch size\n",
    "minibatch_size = 128\n",
    "# The number of epochs\n",
    "epocs          = 10 #Optimal value 600\n",
    "# This parameter if use to retrain on part of the previous data. \n",
    "# If sliding = sample_size then we move to a new set of data.\n",
    "sliding = 10000\n",
    "# Number of Sequential training we want to do\n",
    "T = 5\n",
    "\n",
    "###########################################################\n",
    "# Set the network structure\n",
    "# Depth\n",
    "L = 4\n",
    "# Structure of the hidden units\n",
    "architecture = np.array([784, 400, 400, 10])\n",
    "\n",
    "# Kernel parameter of the HMNN\n",
    "alpha_k = 0.75\n",
    "sigma_k = np.exp(0)\n",
    "c       = np.exp(7)\n",
    "pi      = 0.5\n",
    "\n",
    "# Mixture weight for the variational dropconnect\n",
    "p       = 0.8\n",
    "\n",
    "# Learning rate\n",
    "lr_c = 1e-3\n",
    "\n",
    "# Size of the Monte Carlo sample\n",
    "mc_c = 1"
   ]
  },
  {
   "cell_type": "markdown",
   "metadata": {},
   "source": [
    "## Training procedure"
   ]
  },
  {
   "cell_type": "code",
   "execution_count": 6,
   "metadata": {},
   "outputs": [
    {
     "name": "stdout",
     "output_type": "stream",
     "text": [
      "Time  1\n",
      "Epoch  1\n",
      "Prior score  6102.19002499633  and Data score  36.924489422636384\n",
      "Performance on the validation set  0.1875\n",
      "Epoch  2\n",
      "Prior score  5902.7162931253115  and Data score  36.81765671854652\n",
      "Performance on the validation set  0.208\n",
      "Epoch  3\n",
      "Prior score  5821.309416513264  and Data score  36.17304855213777\n",
      "Performance on the validation set  0.2083\n",
      "Epoch  4\n",
      "Prior score  5799.651061661626  and Data score  37.1636412828807\n",
      "Performance on the validation set  0.2082\n",
      "Epoch  5\n",
      "Prior score  5782.221038800075  and Data score  36.072149800308416\n",
      "Performance on the validation set  0.2772\n",
      "Epoch  6\n",
      "Prior score  5772.538798961223  and Data score  30.840180931557164\n",
      "Performance on the validation set  0.3407\n",
      "Epoch  7\n",
      "Prior score  5774.630683208378  and Data score  26.55068336531712\n",
      "Performance on the validation set  0.368\n",
      "Epoch  8\n",
      "Prior score  5772.740452740232  and Data score  22.94798457987191\n",
      "Performance on the validation set  0.4237\n",
      "Epoch  9\n",
      "Prior score  5768.365613557698  and Data score  25.773213122678126\n",
      "Performance on the validation set  0.5328\n",
      "Epoch  10\n",
      "Prior score  5751.308227948186  and Data score  22.873569320645622\n",
      "Performance on the validation set  0.4688\n",
      "Time  2\n",
      "Epoch  1\n",
      "Prior score  4718.657199928522  and Data score  31.660383506428953\n",
      "Performance on the validation set  0.5254\n",
      "Epoch  2\n",
      "Prior score  4719.181410387254  and Data score  13.53411110349661\n",
      "Performance on the validation set  0.5936\n",
      "Epoch  3\n",
      "Prior score  4708.040134746399  and Data score  21.94929271094501\n",
      "Performance on the validation set  0.6215\n",
      "Epoch  4\n",
      "Prior score  4718.202627229859  and Data score  23.210630540822052\n",
      "Performance on the validation set  0.6944\n",
      "Epoch  5\n",
      "Prior score  4708.117298278776  and Data score  16.27670604798528\n",
      "Performance on the validation set  0.6948\n",
      "Epoch  6\n",
      "Prior score  4715.0878776734935  and Data score  11.585314831511775\n",
      "Performance on the validation set  0.683\n",
      "Epoch  7\n",
      "Prior score  4724.776955900239  and Data score  24.510788383994303\n",
      "Performance on the validation set  0.7065\n",
      "Epoch  8\n",
      "Prior score  4711.913101763727  and Data score  16.833066292600606\n",
      "Performance on the validation set  0.7362\n",
      "Epoch  9\n",
      "Prior score  4716.544686100699  and Data score  11.64641928121339\n",
      "Performance on the validation set  0.7069\n",
      "Epoch  10\n",
      "Prior score  4718.540042347317  and Data score  22.199975426146604\n",
      "Performance on the validation set  0.737\n",
      "Time  3\n",
      "Epoch  1\n",
      "Prior score  4708.50393038797  and Data score  9.075086949798509\n",
      "Performance on the validation set  0.7665\n",
      "Epoch  2\n",
      "Prior score  4712.816793436518  and Data score  10.92618215036806\n",
      "Performance on the validation set  0.7648\n",
      "Epoch  3\n",
      "Prior score  4717.783122328925  and Data score  16.004552726217245\n",
      "Performance on the validation set  0.746\n",
      "Epoch  4\n",
      "Prior score  4710.668982427826  and Data score  11.459928731010969\n",
      "Performance on the validation set  0.7909\n",
      "Epoch  5\n",
      "Prior score  4700.276006054673  and Data score  7.889878653723397\n",
      "Performance on the validation set  0.7431\n",
      "Epoch  6\n",
      "Prior score  4714.468982937292  and Data score  17.171265615927524\n",
      "Performance on the validation set  0.7478\n",
      "Epoch  7\n",
      "Prior score  4705.840287659529  and Data score  25.681575466375108\n",
      "Performance on the validation set  0.7903\n",
      "Epoch  8\n",
      "Prior score  4705.62449773218  and Data score  5.126414410863348\n",
      "Performance on the validation set  0.7423\n",
      "Epoch  9\n",
      "Prior score  4700.9725044184  and Data score  7.728046110284668\n",
      "Performance on the validation set  0.801\n",
      "Epoch  10\n",
      "Prior score  4698.958039277176  and Data score  15.06956206134678\n",
      "Performance on the validation set  0.7955\n",
      "Time  4\n",
      "Epoch  1\n",
      "Prior score  4708.145001662728  and Data score  13.005120993704212\n",
      "Performance on the validation set  0.8044\n",
      "Epoch  2\n",
      "Prior score  4703.231769005789  and Data score  8.289307249957135\n",
      "Performance on the validation set  0.8126\n",
      "Epoch  3\n",
      "Prior score  4706.336035066932  and Data score  6.866966553383364\n",
      "Performance on the validation set  0.8103\n",
      "Epoch  4\n",
      "Prior score  4711.522851824393  and Data score  10.614036736474445\n",
      "Performance on the validation set  0.8126\n",
      "Epoch  5\n",
      "Prior score  4717.168481558776  and Data score  31.956417233622844\n",
      "Performance on the validation set  0.822\n",
      "Epoch  6\n",
      "Prior score  4705.153711449244  and Data score  6.025472634587888\n",
      "Performance on the validation set  0.8207\n",
      "Epoch  7\n",
      "Prior score  4700.2922521614055  and Data score  20.666681272290433\n",
      "Performance on the validation set  0.8463\n",
      "Epoch  8\n",
      "Prior score  4703.624642364824  and Data score  9.005136100907267\n",
      "Performance on the validation set  0.8033\n",
      "Epoch  9\n",
      "Prior score  4695.955036428118  and Data score  17.230092824527908\n",
      "Performance on the validation set  0.8274\n",
      "Epoch  10\n",
      "Prior score  4695.282313435622  and Data score  11.41188742256941\n",
      "Performance on the validation set  0.841\n",
      "Time  5\n",
      "Epoch  1\n",
      "Prior score  4707.438049277407  and Data score  24.36725287767555\n",
      "Performance on the validation set  0.8054\n",
      "Epoch  2\n",
      "Prior score  4710.849044986565  and Data score  20.40006275024614\n",
      "Performance on the validation set  0.8123\n",
      "Epoch  3\n",
      "Prior score  4712.536557272852  and Data score  15.399453372826272\n",
      "Performance on the validation set  0.8388\n",
      "Epoch  4\n",
      "Prior score  4716.439723427819  and Data score  16.65373879753441\n",
      "Performance on the validation set  0.818\n",
      "Epoch  5\n",
      "Prior score  4702.7602000540055  and Data score  23.819079584679514\n",
      "Performance on the validation set  0.7852\n",
      "Epoch  6\n",
      "Prior score  4713.908009584649  and Data score  12.480370597695735\n",
      "Performance on the validation set  0.835\n",
      "Epoch  7\n",
      "Prior score  4698.289764133706  and Data score  9.080562853955588\n",
      "Performance on the validation set  0.7941\n",
      "Epoch  8\n",
      "Prior score  4705.699823760102  and Data score  10.245752290174115\n",
      "Performance on the validation set  0.8407\n",
      "Epoch  9\n",
      "Prior score  4699.113902897458  and Data score  8.502888552803839\n",
      "Performance on the validation set  0.8559\n",
      "Epoch  10\n",
      "Prior score  4703.550458881667  and Data score  10.442958937677435\n",
      "Performance on the validation set  0.8376\n"
     ]
    }
   ],
   "source": [
    "# Loss function\n",
    "loss_function = torch.nn.CrossEntropyLoss(reduction = 'sum')\n",
    "\n",
    "\n",
    "HMMNET = BayesianNetwork.torchHHMnet(architecture, alpha_k, sigma_k, c, pi, p, loss_function, sample_size, minibatch_size, epocs, T, sliding, workers = 4)\n",
    "\n",
    "HMMNET.forward_pass(x_tr, y_tr, x_val, y_val, lr_c, mc_c)"
   ]
  },
  {
   "cell_type": "markdown",
   "metadata": {},
   "source": [
    "The above simulation took around 20 min on a machine with CPU: 1.80GHz i7-8565U and Ram: 16Gb"
   ]
  },
  {
   "cell_type": "markdown",
   "metadata": {},
   "source": [
    "## Test "
   ]
  },
  {
   "cell_type": "code",
   "execution_count": 7,
   "metadata": {},
   "outputs": [],
   "source": [
    "x_te = va_x[0:50000]\n",
    "y_te = va_y[0:50000]"
   ]
  },
  {
   "cell_type": "markdown",
   "metadata": {},
   "source": [
    "Test using the last time $t=5$"
   ]
  },
  {
   "cell_type": "code",
   "execution_count": 11,
   "metadata": {},
   "outputs": [
    {
     "name": "stdout",
     "output_type": "stream",
     "text": [
      "Performance on the test set  0.83394\n"
     ]
    }
   ],
   "source": [
    "y_predicted     = np.zeros(len(y_te))\n",
    "te_performance =0\n",
    "\n",
    "output           = HMMNET.model_list[5].performance( torch.tensor( x_te, dtype = torch.float64 ) )\n",
    "output_softmax   = F.softmax(output, dim=1)\n",
    "\n",
    "y_predicted = np.array( range(0, 10) )[ np.argmax( output_softmax.data.numpy(), 1 ) ]\n",
    "\n",
    "te_performance = sum(y_te == y_predicted)/len(y_te)\n",
    "print(\"Performance on the test set \", te_performance)"
   ]
  },
  {
   "cell_type": "code",
   "execution_count": null,
   "metadata": {},
   "outputs": [],
   "source": []
  }
 ],
 "metadata": {
  "kernelspec": {
   "display_name": "Python 3",
   "language": "python",
   "name": "python3"
  },
  "language_info": {
   "codemirror_mode": {
    "name": "ipython",
    "version": 3
   },
   "file_extension": ".py",
   "mimetype": "text/x-python",
   "name": "python",
   "nbconvert_exporter": "python",
   "pygments_lexer": "ipython3",
   "version": "3.7.3"
  }
 },
 "nbformat": 4,
 "nbformat_minor": 2
}
